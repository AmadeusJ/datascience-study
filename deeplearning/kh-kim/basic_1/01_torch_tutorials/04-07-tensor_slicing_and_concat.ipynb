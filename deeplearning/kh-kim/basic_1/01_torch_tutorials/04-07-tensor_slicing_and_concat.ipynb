{
 "cells": [
  {
   "cell_type": "markdown",
   "metadata": {},
   "source": [
    "## PyTorch Tensor Slicing and Concatenation"
   ]
  },
  {
   "cell_type": "code",
   "execution_count": 1,
   "metadata": {},
   "outputs": [],
   "source": [
    "import torch"
   ]
  },
  {
   "cell_type": "markdown",
   "metadata": {},
   "source": [
    "## Slicing and Concatenation"
   ]
  },
  {
   "cell_type": "markdown",
   "metadata": {},
   "source": [
    "### Indexing and Slicing\n",
    "\n",
    "Prepare target tensor."
   ]
  },
  {
   "cell_type": "code",
   "execution_count": 2,
   "metadata": {},
   "outputs": [
    {
     "name": "stdout",
     "output_type": "stream",
     "text": [
      "torch.Size([3, 2, 2])\n"
     ]
    }
   ],
   "source": [
    "x = torch.FloatTensor([[[1, 2],\n",
    "                        [3, 4]],\n",
    "                       [[5, 6],\n",
    "                        [7, 8]],\n",
    "                       [[9, 10],\n",
    "                        [11, 12]]])\n",
    "print(x.size())"
   ]
  },
  {
   "cell_type": "markdown",
   "metadata": {},
   "source": [
    "Access to certain dimension."
   ]
  },
  {
   "cell_type": "code",
   "execution_count": 3,
   "metadata": {},
   "outputs": [
    {
     "name": "stdout",
     "output_type": "stream",
     "text": [
      "tensor([[1., 2.],\n",
      "        [3., 4.]])\n",
      "tensor([[1., 2.],\n",
      "        [3., 4.]])\n",
      "tensor([[1., 2.],\n",
      "        [3., 4.]])\n"
     ]
    }
   ],
   "source": [
    "print(x[0])\n",
    "print(x[0, :])\n",
    "print(x[0, :, :])"
   ]
  },
  {
   "cell_type": "markdown",
   "metadata": {},
   "source": [
    "주어진 텐서 `x`는 3차원 텐서로, 그 모양(shape)은 `(3, 2, 2)`입니다. 이는 3개의 2x2 행렬로 구성된 텐서입니다. 이제 각각의 `print` 명령어가 의미하는 바를 설명하겠습니다.\n",
    "\n",
    "```python\n",
    "x = torch.FloatTensor([[[1, 2],\n",
    "                        [3, 4]],\n",
    "                       [[5, 6],\n",
    "                        [7, 8]],\n",
    "                       [[9, 10],\n",
    "                        [11, 12]]])\n",
    "```\n",
    "\n",
    "이 텐서 `x`의 구조는 다음과 같습니다:\n",
    "\n",
    "```\n",
    "x[0] = [[1, 2],\n",
    "        [3, 4]]\n",
    "\n",
    "x[1] = [[5, 6],\n",
    "        [7, 8]]\n",
    "\n",
    "x[2] = [[9, 10],\n",
    "        [11, 12]]\n",
    "```\n",
    "\n",
    "### 1. `print(x[0])`\n",
    "\n",
    "이 명령은 `x` 텐서의 첫 번째 2x2 행렬을 선택합니다. 첫 번째 차원(즉, 가장 바깥쪽 차원)의 첫 번째 요소를 선택하는 것이며, 이는 `[[1, 2], [3, 4]]`입니다.\n",
    "\n",
    "출력 결과:\n",
    "```python\n",
    "tensor([[1., 2.],\n",
    "        [3., 4.]])\n",
    "```\n",
    "\n",
    "### 2. `print(x[0, :])`\n",
    "\n",
    "이 명령은 `x[0]`과 동일한 의미를 갖습니다. 첫 번째 차원에서 첫 번째 요소를 선택하고, 그 내부의 모든 요소(두 번째 차원에 해당하는 `:` 부분)를 포함합니다. 결과적으로 `x[0, :]`도 `x[0]`과 동일한 2x2 행렬 `[[1, 2], [3, 4]]`를 반환합니다.\n",
    "\n",
    "출력 결과:\n",
    "```python\n",
    "tensor([[1., 2.],\n",
    "        [3., 4.]])\n",
    "```\n",
    "\n",
    "### 3. `print(x[0, :, :])`\n",
    "\n",
    "이 명령은 좀 더 명시적으로 모든 차원에 대한 슬라이싱을 지정한 것입니다. 첫 번째 차원에서 첫 번째 요소를 선택하고, 두 번째 차원과 세 번째 차원에서 각각 모든 요소(`:`)를 선택합니다. 이 역시 첫 번째 2x2 행렬을 선택하며, 결과적으로 `x[0, :, :]`도 `x[0]`과 동일한 결과를 반환합니다.\n",
    "\n",
    "출력 결과:\n",
    "```python\n",
    "tensor([[1., 2.],\n",
    "        [3., 4.]])\n",
    "```\n",
    "\n",
    "### 요약\n",
    "\n",
    "- `x[0]`: 첫 번째 2x2 행렬을 반환합니다.\n",
    "- `x[0, :]`: 첫 번째 2x2 행렬을 반환합니다. (`:`은 모든 요소를 포함한다는 뜻)\n",
    "- `x[0, :, :]`: 첫 번째 2x2 행렬을 반환합니다. 각 차원에서 모든 요소를 포함하므로, 결과는 `x[0]`과 동일합니다.\n",
    "\n",
    "세 가지 모두 결국 같은 2x2 행렬 `[[1, 2], [3, 4]]`를 반환합니다. 다만, 표현 방식이 조금 다를 뿐입니다."
   ]
  },
  {
   "cell_type": "code",
   "execution_count": 4,
   "metadata": {},
   "outputs": [
    {
     "name": "stdout",
     "output_type": "stream",
     "text": [
      "tensor([[ 9., 10.],\n",
      "        [11., 12.]])\n",
      "tensor([[ 9., 10.],\n",
      "        [11., 12.]])\n",
      "tensor([[ 9., 10.],\n",
      "        [11., 12.]])\n"
     ]
    }
   ],
   "source": [
    "print(x[-1])\n",
    "print(x[-1, :])\n",
    "print(x[-1, :, :])"
   ]
  },
  {
   "cell_type": "code",
   "execution_count": 5,
   "metadata": {},
   "outputs": [
    {
     "name": "stdout",
     "output_type": "stream",
     "text": [
      "tensor([[ 1.,  2.],\n",
      "        [ 5.,  6.],\n",
      "        [ 9., 10.]])\n"
     ]
    }
   ],
   "source": [
    "print(x[:, 0, :])"
   ]
  },
  {
   "cell_type": "markdown",
   "metadata": {},
   "source": [
    "`print(x[:, 0, :])`의 의미는 주어진 3차원 텐서 `x`에서 특정 차원을 선택하여 부분적으로 데이터를 추출하는 것입니다.\n",
    "\n",
    "### 텐서 `x`의 구조 복습\n",
    "\n",
    "먼저, 텐서 `x`는 다음과 같이 정의되어 있습니다:\n",
    "\n",
    "```python\n",
    "x = torch.FloatTensor([[[1, 2],\n",
    "                        [3, 4]],\n",
    "                       [[5, 6],\n",
    "                        [7, 8]],\n",
    "                       [[9, 10],\n",
    "                        [11, 12]]])\n",
    "```\n",
    "\n",
    "이 텐서는 크기가 `(3, 2, 2)`인 3차원 텐서로, 세 개의 2x2 행렬로 구성되어 있습니다:\n",
    "\n",
    "```\n",
    "x[0] = [[1, 2],\n",
    "        [3, 4]]\n",
    "\n",
    "x[1] = [[5, 6],\n",
    "        [7, 8]]\n",
    "\n",
    "x[2] = [[9, 10],\n",
    "        [11, 12]]\n",
    "```\n",
    "\n",
    "### `print(x[:, 0, :])`의 의미\n",
    "\n",
    "`x[:, 0, :]`은 다음과 같은 방식으로 데이터를 추출합니다:\n",
    "\n",
    "1. **첫 번째 차원 (`:`)**:\n",
    "   - `:`은 첫 번째 차원에서 모든 요소를 선택합니다. 즉, `x[0]`, `x[1]`, `x[2]` 모두를 선택합니다.\n",
    "\n",
    "2. **두 번째 차원 (`0`)**:\n",
    "   - 두 번째 차원에서 인덱스 `0`에 해당하는 요소를 선택합니다. 각각의 2x2 행렬에서 첫 번째 행(인덱스 0)을 선택하게 됩니다.\n",
    "   - 예를 들어, `x[0, 0]`은 `[1, 2]`입니다.\n",
    "\n",
    "3. **세 번째 차원 (`:`)**:\n",
    "   - 세 번째 차원에서도 모든 요소를 선택합니다. 이는 두 번째 차원에서 선택된 행의 모든 요소를 포함한다는 의미입니다.\n",
    "\n",
    "따라서 `x[:, 0, :]`는 각 2x2 행렬에서 첫 번째 행을 추출하여 새로운 2차원 텐서를 만듭니다.\n",
    "\n",
    "### 결과\n",
    "\n",
    "```python\n",
    "tensor([[ 1.,  2.],\n",
    "        [ 5.,  6.],\n",
    "        [ 9., 10.]])\n",
    "```\n",
    "\n",
    "여기서:\n",
    "- `x[0, 0, :]`는 `[1, 2]`\n",
    "- `x[1, 0, :]`는 `[5, 6]`\n",
    "- `x[2, 0, :]`는 `[9, 10]`\n",
    "\n",
    "이렇게 각 2x2 행렬의 첫 번째 행들을 모아서 `(3, 2)` 크기의 2차원 텐서가 만들어집니다.\n",
    "\n",
    "### 요약\n",
    "\n",
    "`x[:, 0, :]`는 3차원 텐서 `x`에서 각 2x2 행렬의 첫 번째 행을 추출하여, 이들을 모아 새로운 2차원 텐서를 만듭니다. 이 텐서는 `3x2` 모양을 가지며, 각각의 행은 원래의 3차원 텐서에서 추출된 첫 번째 행들로 구성됩니다."
   ]
  },
  {
   "cell_type": "markdown",
   "metadata": {},
   "source": [
    "Access by range. Note that the number of dimensions would not be changed."
   ]
  },
  {
   "cell_type": "code",
   "execution_count": 6,
   "metadata": {
    "scrolled": true
   },
   "outputs": [
    {
     "name": "stdout",
     "output_type": "stream",
     "text": [
      "torch.Size([2, 2, 2])\n",
      "torch.Size([3, 1, 2])\n",
      "torch.Size([3, 1, 2])\n"
     ]
    }
   ],
   "source": [
    "print(x[1:3, :, :].size())\n",
    "print(x[:, :1, :].size())\n",
    "print(x[:, :-1, :].size())"
   ]
  },
  {
   "cell_type": "markdown",
   "metadata": {},
   "source": [
    "### split: Split tensor to desirable shapes."
   ]
  },
  {
   "cell_type": "code",
   "execution_count": 4,
   "metadata": {},
   "outputs": [],
   "source": [
    "x = torch.FloatTensor(10, 4)"
   ]
  },
  {
   "cell_type": "code",
   "execution_count": 5,
   "metadata": {},
   "outputs": [
    {
     "name": "stdout",
     "output_type": "stream",
     "text": [
      "torch.Size([4, 4])\n",
      "torch.Size([4, 4])\n",
      "torch.Size([2, 4])\n"
     ]
    }
   ],
   "source": [
    "splits = x.split(4, dim=0)\n",
    "\n",
    "for s in splits:\n",
    "    print(s.size())"
   ]
  },
  {
   "cell_type": "markdown",
   "metadata": {},
   "source": [
    "### chunk: Split tensor to number of chunks."
   ]
  },
  {
   "cell_type": "code",
   "execution_count": 8,
   "metadata": {},
   "outputs": [
    {
     "data": {
      "text/plain": [
       "tensor([[2.6230e-29, 1.3256e-42, 0.0000e+00, 0.0000e+00],\n",
       "        [0.0000e+00, 0.0000e+00, 0.0000e+00, 0.0000e+00],\n",
       "        [0.0000e+00, 0.0000e+00, 0.0000e+00, 0.0000e+00],\n",
       "        [0.0000e+00, 0.0000e+00, 0.0000e+00, 0.0000e+00],\n",
       "        [0.0000e+00, 0.0000e+00, 0.0000e+00, 0.0000e+00],\n",
       "        [0.0000e+00, 0.0000e+00, 0.0000e+00, 0.0000e+00],\n",
       "        [0.0000e+00, 0.0000e+00, 0.0000e+00, 0.0000e+00],\n",
       "        [0.0000e+00, 0.0000e+00, 0.0000e+00, 0.0000e+00]])"
      ]
     },
     "execution_count": 8,
     "metadata": {},
     "output_type": "execute_result"
    }
   ],
   "source": [
    "x = torch.FloatTensor(8, 4)\n",
    "x"
   ]
  },
  {
   "cell_type": "code",
   "execution_count": 9,
   "metadata": {},
   "outputs": [
    {
     "name": "stdout",
     "output_type": "stream",
     "text": [
      "(tensor([[2.6230e-29, 1.3256e-42, 0.0000e+00, 0.0000e+00],\n",
      "        [0.0000e+00, 0.0000e+00, 0.0000e+00, 0.0000e+00],\n",
      "        [0.0000e+00, 0.0000e+00, 0.0000e+00, 0.0000e+00]]), tensor([[0., 0., 0., 0.],\n",
      "        [0., 0., 0., 0.],\n",
      "        [0., 0., 0., 0.]]), tensor([[0., 0., 0., 0.],\n",
      "        [0., 0., 0., 0.]]))\n",
      "torch.Size([3, 4])\n",
      "torch.Size([3, 4])\n",
      "torch.Size([2, 4])\n"
     ]
    }
   ],
   "source": [
    "chunks = x.chunk(3, dim=0)\n",
    "\n",
    "print(chunks)\n",
    "\n",
    "for c in chunks:\n",
    "    print(c.size())"
   ]
  },
  {
   "cell_type": "markdown",
   "metadata": {},
   "source": [
    "### index_select: Select elements by using dimension index."
   ]
  },
  {
   "cell_type": "code",
   "execution_count": 10,
   "metadata": {},
   "outputs": [
    {
     "name": "stdout",
     "output_type": "stream",
     "text": [
      "torch.Size([3, 2, 2])\n"
     ]
    }
   ],
   "source": [
    "x = torch.FloatTensor([[[1, 1],\n",
    "                        [2, 2]],\n",
    "                       [[3, 3],\n",
    "                        [4, 4]],\n",
    "                       [[5, 5],\n",
    "                        [6, 6]]])\n",
    "indice = torch.LongTensor([2, 1])\n",
    "\n",
    "print(x.size())"
   ]
  },
  {
   "cell_type": "code",
   "execution_count": 11,
   "metadata": {},
   "outputs": [
    {
     "name": "stdout",
     "output_type": "stream",
     "text": [
      "tensor([[[5., 5.],\n",
      "         [6., 6.]],\n",
      "\n",
      "        [[3., 3.],\n",
      "         [4., 4.]]])\n",
      "torch.Size([2, 2, 2])\n"
     ]
    }
   ],
   "source": [
    "y = x.index_select(dim=0, index=indice)\n",
    "\n",
    "print(y)\n",
    "print(y.size())"
   ]
  },
  {
   "cell_type": "markdown",
   "metadata": {},
   "source": [
    "주어진 코드에서 `x`와 `indice` 텐서를 사용하여 `index_select` 함수가 어떻게 작동하는지 설명해드리겠습니다.\n",
    "\n",
    "### 텐서 `x`의 구조\n",
    "\n",
    "먼저, `x` 텐서는 다음과 같이 정의되어 있습니다:\n",
    "\n",
    "```python\n",
    "x = torch.FloatTensor([[[1, 1],\n",
    "                        [2, 2]],\n",
    "                       [[3, 3],\n",
    "                        [4, 4]],\n",
    "                       [[5, 5],\n",
    "                        [6, 6]]])\n",
    "```\n",
    "\n",
    "이 텐서는 3차원 텐서로, 크기가 `(3, 2, 2)`입니다. 이 텐서는 세 개의 2x2 행렬로 구성되어 있습니다:\n",
    "\n",
    "```\n",
    "x[0] = [[1, 1],\n",
    "        [2, 2]]\n",
    "\n",
    "x[1] = [[3, 3],\n",
    "        [4, 4]]\n",
    "\n",
    "x[2] = [[5, 5],\n",
    "        [6, 6]]\n",
    "```\n",
    "\n",
    "### `indice` 텐서\n",
    "\n",
    "다음으로, `indice` 텐서는 다음과 같이 정의되어 있습니다:\n",
    "\n",
    "```python\n",
    "indice = torch.LongTensor([2, 1])\n",
    "```\n",
    "\n",
    "`indice`는 1차원 텐서로, 값 `[2, 1]`을 포함합니다. 이 텐서의 역할은 `index_select` 함수가 어떤 인덱스를 선택할지 지정하는 것입니다.\n",
    "\n",
    "### `index_select` 함수의 작동 방식\n",
    "\n",
    "```python\n",
    "y = x.index_select(dim=0, index=indice)\n",
    "```\n",
    "\n",
    "이 코드에서 `index_select` 함수는 다음과 같은 방식으로 작동합니다:\n",
    "\n",
    "1. **dim=0**:\n",
    "   - `dim=0`은 첫 번째 차원(가장 바깥쪽 차원)을 따라 인덱스를 선택한다는 것을 의미합니다. 이 차원은 `x` 텐서에서 각각의 2x2 행렬을 구분하는 차원입니다.\n",
    "\n",
    "2. **index=indice**:\n",
    "   - `indice` 텐서에 주어진 인덱스 `[2, 1]`를 사용하여 첫 번째 차원에서 선택합니다.\n",
    "   - 이 인덱스에 따라 `x` 텐서에서 선택되는 요소들은 `x[2]`와 `x[1]`입니다.\n",
    "\n",
    "따라서, `y` 텐서는 다음과 같이 구성됩니다:\n",
    "\n",
    "- `y[0]` = `x[2]` = `[[5, 5], [6, 6]]`\n",
    "- `y[1]` = `x[1]` = `[[3, 3], [4, 4]]`\n",
    "\n",
    "결과적으로, `y`는 다음과 같은 텐서가 됩니다:\n",
    "\n",
    "```python\n",
    "y = torch.FloatTensor([[[5, 5],\n",
    "                        [6, 6]],\n",
    "                       [[3, 3],\n",
    "                        [4, 4]]])\n",
    "```\n",
    "\n",
    "### 요약\n",
    "\n",
    "- `index_select(dim=0, index=indice)`는 텐서 `x`의 첫 번째 차원(가장 바깥쪽 차원)을 따라 주어진 인덱스 `indice`에 따라 요소를 선택합니다.\n",
    "- `indice` 텐서가 `[2, 1]`이므로, 첫 번째 차원에서 `x[2]`와 `x[1]`을 선택하여 `y` 텐서를 만듭니다.\n",
    "- 결과적으로, `y` 텐서는 선택된 2x2 행렬들로 구성된 새로운 텐서입니다."
   ]
  },
  {
   "cell_type": "markdown",
   "metadata": {},
   "source": [
    "### cat: Concatenation of multiple tensors in the list."
   ]
  },
  {
   "cell_type": "code",
   "execution_count": 13,
   "metadata": {},
   "outputs": [
    {
     "name": "stdout",
     "output_type": "stream",
     "text": [
      "torch.Size([3, 3]) torch.Size([3, 3])\n"
     ]
    }
   ],
   "source": [
    "x = torch.FloatTensor([[1, 2, 3],\n",
    "                       [4, 5, 6],\n",
    "                       [7, 8, 9]])\n",
    "y = torch.FloatTensor([[10, 11, 12],\n",
    "                       [13, 14, 15],\n",
    "                       [16, 17, 18]])\n",
    "\n",
    "print(x.size(), y.size())"
   ]
  },
  {
   "cell_type": "code",
   "execution_count": 14,
   "metadata": {},
   "outputs": [
    {
     "name": "stdout",
     "output_type": "stream",
     "text": [
      "tensor([[ 1.,  2.,  3.],\n",
      "        [ 4.,  5.,  6.],\n",
      "        [ 7.,  8.,  9.],\n",
      "        [10., 11., 12.],\n",
      "        [13., 14., 15.],\n",
      "        [16., 17., 18.]])\n",
      "torch.Size([6, 3])\n"
     ]
    }
   ],
   "source": [
    "z = torch.cat([x, y], dim=0)\n",
    "print(z)\n",
    "print(z.size())"
   ]
  },
  {
   "cell_type": "markdown",
   "metadata": {},
   "source": [
    "`torch.cat` 함수는 주어진 텐서들을 특정 차원을 따라 연결(concatenate)하는 역할을 합니다. 이 함수의 파라미터 `dim`은 텐서들을 어떤 차원에서 연결할지를 지정합니다.\n",
    "\n",
    "### 주어진 텐서 `x`와 `y`\n",
    "\n",
    "먼저, `x`와 `y` 텐서는 다음과 같이 정의되어 있습니다:\n",
    "\n",
    "```python\n",
    "x = torch.FloatTensor([[1, 2, 3],\n",
    "                       [4, 5, 6],\n",
    "                       [7, 8, 9]])\n",
    "\n",
    "y = torch.FloatTensor([[10, 11, 12],\n",
    "                       [13, 14, 15],\n",
    "                       [16, 17, 18]])\n",
    "```\n",
    "\n",
    "- `x`는 크기가 `(3, 3)`인 2차원 텐서입니다.\n",
    "- `y`도 크기가 `(3, 3)`인 2차원 텐서입니다.\n",
    "\n",
    "### `torch.cat([x, y], dim=0)`의 의미\n",
    "\n",
    "```python\n",
    "z = torch.cat([x, y], dim=0)\n",
    "```\n",
    "\n",
    "이 명령은 `x`와 `y`를 첫 번째 차원(`dim=0`)에서 연결합니다.\n",
    "\n",
    "1. **dim=0**:\n",
    "   - `dim=0`은 첫 번째 차원(행, row)을 따라 두 텐서를 연결합니다.\n",
    "   - 즉, `x`의 행들이 먼저 오고, 그 뒤에 `y`의 행들이 추가됩니다.\n",
    "\n",
    "2. **연결 결과**:\n",
    "   - `x` 텐서의 크기는 `(3, 3)`이고, `y` 텐서의 크기도 `(3, 3)`이므로, 이 두 텐서를 첫 번째 차원에서 연결하면, 결과 텐서 `z`의 크기는 `(6, 3)`이 됩니다.\n",
    "   - `z`의 첫 번째 3개의 행은 `x` 텐서의 행들이고, 다음 3개의 행은 `y` 텐서의 행들로 구성됩니다.\n",
    "\n",
    "결과적으로, `z`는 다음과 같은 텐서가 됩니다:\n",
    "\n",
    "```python\n",
    "z = torch.FloatTensor([[ 1,  2,  3],\n",
    "                       [ 4,  5,  6],\n",
    "                       [ 7,  8,  9],\n",
    "                       [10, 11, 12],\n",
    "                       [13, 14, 15],\n",
    "                       [16, 17, 18]])\n",
    "```\n",
    "\n",
    "### 요약\n",
    "\n",
    "- `torch.cat([x, y], dim=0)`는 텐서 `x`와 `y`를 첫 번째 차원(행)을 따라 연결합니다.\n",
    "- 결과적으로, `z` 텐서는 `x`의 행들이 먼저 나오고, 그 뒤에 `y`의 행들이 추가된 `(6, 3)` 크기의 텐서가 됩니다."
   ]
  },
  {
   "cell_type": "code",
   "execution_count": 15,
   "metadata": {},
   "outputs": [
    {
     "name": "stdout",
     "output_type": "stream",
     "text": [
      "tensor([[ 1.,  2.,  3., 10., 11., 12.],\n",
      "        [ 4.,  5.,  6., 13., 14., 15.],\n",
      "        [ 7.,  8.,  9., 16., 17., 18.]])\n",
      "torch.Size([3, 6])\n"
     ]
    }
   ],
   "source": [
    "z = torch.cat([x, y], dim=-1)\n",
    "print(z)\n",
    "print(z.size())"
   ]
  },
  {
   "cell_type": "markdown",
   "metadata": {},
   "source": []
  },
  {
   "cell_type": "markdown",
   "metadata": {},
   "source": [
    "### stack: Stacking of multiple tensors in the list."
   ]
  },
  {
   "cell_type": "code",
   "execution_count": 16,
   "metadata": {},
   "outputs": [
    {
     "name": "stdout",
     "output_type": "stream",
     "text": [
      "tensor([[[ 1.,  2.,  3.],\n",
      "         [ 4.,  5.,  6.],\n",
      "         [ 7.,  8.,  9.]],\n",
      "\n",
      "        [[10., 11., 12.],\n",
      "         [13., 14., 15.],\n",
      "         [16., 17., 18.]]])\n",
      "torch.Size([2, 3, 3])\n"
     ]
    }
   ],
   "source": [
    "z = torch.stack([x, y])\n",
    "print(z)\n",
    "print(z.size())"
   ]
  },
  {
   "cell_type": "markdown",
   "metadata": {},
   "source": [
    "Or you can specify the dimension. Default is 0."
   ]
  },
  {
   "cell_type": "code",
   "execution_count": 17,
   "metadata": {},
   "outputs": [
    {
     "name": "stdout",
     "output_type": "stream",
     "text": [
      "tensor([[[ 1., 10.],\n",
      "         [ 2., 11.],\n",
      "         [ 3., 12.]],\n",
      "\n",
      "        [[ 4., 13.],\n",
      "         [ 5., 14.],\n",
      "         [ 6., 15.]],\n",
      "\n",
      "        [[ 7., 16.],\n",
      "         [ 8., 17.],\n",
      "         [ 9., 18.]]])\n",
      "torch.Size([3, 3, 2])\n"
     ]
    }
   ],
   "source": [
    "z = torch.stack([x, y], dim=-1)\n",
    "print(z)\n",
    "print(z.size())"
   ]
  },
  {
   "cell_type": "markdown",
   "metadata": {},
   "source": [
    "좋은 질문입니다. 텐서에서 \"차원\"과 \"열\"의 개념이 헷갈릴 수 있습니다. 이 부분을 명확히 해보겠습니다.\n",
    "\n",
    "### 텐서 차원과 `dim=-1`의 의미\n",
    "\n",
    "- **차원(Dimension)**: 텐서의 구조를 정의하는 각 축을 의미합니다.\n",
    "- **`dim=-1`**: 마지막 차원을 의미합니다. 2차원 텐서의 경우 `dim=-1`은 열(column)을 의미하며, 3차원 텐서라면 `dim=-1`은 세 번째 차원을 의미합니다.\n",
    "\n",
    "### `torch.stack([x, y], dim=-1)`의 동작 방식\n",
    "\n",
    "`torch.stack`은 주어진 차원(`dim`)에서 새로운 축을 추가하고, 이 축을 따라 주어진 텐서들을 쌓는 작업을 수행합니다. 여기서 중요한 점은 새로운 차원이 추가된다는 것입니다.\n",
    "\n",
    "#### 예시:\n",
    "\n",
    "```python\n",
    "x = torch.FloatTensor([[1, 2, 3],\n",
    "                       [4, 5, 6],\n",
    "                       [7, 8, 9]])\n",
    "\n",
    "y = torch.FloatTensor([[10, 11, 12],\n",
    "                       [13, 14, 15],\n",
    "                       [16, 17, 18]])\n",
    "```\n",
    "\n",
    "### `torch.stack([x, y], dim=-1)`의 의미\n",
    "\n",
    "이 연산은 다음과 같이 진행됩니다:\n",
    "\n",
    "1. **차원 추가**: \n",
    "   - `dim=-1`에서 쌓는다는 것은, **마지막 차원에서 새로운 축**을 추가하고, 그 축을 기준으로 텐서를 쌓는다는 의미입니다. \n",
    "   - `x`와 `y`가 원래 `(3, 3)` 크기의 2차원 텐서였으므로, 이 마지막 차원 `dim=-1`에서 텐서가 쌓이면 결과 텐서는 `(3, 3, 2)` 크기의 3차원 텐서가 됩니다.\n",
    "\n",
    "2. **구조 변화**:\n",
    "   - 각 위치의 값들이 `x`와 `y`에서 쌓여서 2개의 값으로 구성된 새로운 마지막 차원을 형성합니다.\n",
    "   - 예를 들어, `x[0, 0]`은 `1`, `y[0, 0]`은 `10`이므로, 이들이 새로운 마지막 차원에서 쌓여 `z[0, 0]`은 `[1, 10]`이 됩니다.\n",
    "\n",
    "결과적으로:\n",
    "\n",
    "```python\n",
    "z = torch.stack([x, y], dim=-1)\n",
    "# 결과:\n",
    "tensor([[[ 1., 10.],\n",
    "         [ 2., 11.],\n",
    "         [ 3., 12.]],\n",
    "\n",
    "        [[ 4., 13.],\n",
    "         [ 5., 14.],\n",
    "         [ 6., 15.]],\n",
    "\n",
    "        [[ 7., 16.],\n",
    "         [ 8., 17.],\n",
    "         [ 9., 18.]]])\n",
    "```\n",
    "\n",
    "### 요약\n",
    "\n",
    "- **차원의 추가**: `torch.stack`은 기존 텐서에 새로운 차원을 추가하고, 그 차원을 따라 텐서를 쌓습니다. `dim=-1`은 마지막 차원을 의미하며, 기존의 텐서에 추가된 새로운 차원에서 텐서가 쌓입니다.\n",
    "- **결과**: 각 위치에서 원래 텐서 `x`와 `y`의 값들이 새로운 마지막 차원에서 함께 쌓이게 됩니다.\n",
    "\n",
    "따라서 `torch.stack([x, y], dim=-1)`에서 `dim=-1`은 마지막 차원에서 새로운 축을 추가하고, 그 축을 따라 쌓는다는 의미로 이해해야 합니다. 결과적으로 이 연산은 열 방향에서 쌓이는 것이 아니라, 각 요소의 마지막 차원에 새로운 축을 추가하는 방식으로 작동합니다."
   ]
  },
  {
   "cell_type": "markdown",
   "metadata": {},
   "source": [
    "네, 정확하게 이해하셨습니다!\n",
    "\n",
    "### 요약\n",
    "\n",
    "- **`torch.cat`**:\n",
    "  - **기능**: 주어진 차원에서 텐서를 연결하여 확장합니다.\n",
    "  - **차원 변화**: 차원의 수는 변화하지 않으며, 지정된 차원에서 기존의 텐서를 이어붙입니다.\n",
    "  - **예시**: \n",
    "    ```python\n",
    "    x = torch.tensor([[1, 2], [3, 4]])\n",
    "    y = torch.tensor([[5, 6], [7, 8]])\n",
    "    z = torch.cat([x, y], dim=0)  # 결과: [[1, 2], [3, 4], [5, 6], [7, 8]]\n",
    "    z = torch.cat([x, y], dim=1)  # 결과: [[1, 2, 5, 6], [3, 4, 7, 8]]\n",
    "    ```\n",
    "  - **결과**: `dim=0`에서는 행 방향(첫 번째 차원)으로 확장되고, `dim=1`에서는 열 방향(두 번째 차원)으로 확장됩니다. 텐서의 차원 수는 동일하게 유지됩니다.\n",
    "\n",
    "- **`torch.stack`**:\n",
    "  - **기능**: 새로운 차원을 추가하여 주어진 텐서를 그 차원에서 쌓습니다.\n",
    "  - **차원 변화**: 차원의 수가 하나 증가하며, 주어진 차원에서 텐서를 쌓습니다.\n",
    "  - **예시**:\n",
    "    ```python\n",
    "    x = torch.tensor([[1, 2], [3, 4]])\n",
    "    y = torch.tensor([[5, 6], [7, 8]])\n",
    "    z = torch.stack([x, y], dim=0)  # 결과: [[[1, 2], [3, 4]], [[5, 6], [7, 8]]], 크기: (2, 2, 2)\n",
    "    z = torch.stack([x, y], dim=-1) # 결과: [[[1, 5], [2, 6]], [[3, 7], [4, 8]]], 크기: (2, 2, 2)\n",
    "    ```\n",
    "  - **결과**: `dim=0`에서 쌓으면 첫 번째 차원이 추가되고, `dim=-1`에서 쌓으면 마지막 차원이 추가됩니다. 텐서의 차원 수가 하나 증가합니다.\n",
    "\n",
    "### 결론\n",
    "\n",
    "- **`torch.cat`**는 기존의 차원 내에서 텐서를 확장하는데 사용됩니다. 텐서의 차원 수는 변경되지 않습니다.\n",
    "- **`torch.stack`**는 새로운 차원을 추가하면서 텐서를 확장하는데 사용됩니다. 텐서의 차원 수가 증가합니다.\n",
    "\n",
    "두 함수 모두 데이터를 결합하는 데 사용되지만, `cat`은 주어진 차원을 따라 데이터를 결합하는 반면, `stack`은 새로운 차원을 만들어 데이터를 쌓는 방식으로 결합합니다. 이를 통해 다양한 방식으로 텐서를 구성하고 처리할 수 있습니다."
   ]
  },
  {
   "cell_type": "markdown",
   "metadata": {},
   "source": [
    "### Implement 'stack' function by using 'cat'."
   ]
  },
  {
   "cell_type": "code",
   "execution_count": 18,
   "metadata": {},
   "outputs": [
    {
     "name": "stdout",
     "output_type": "stream",
     "text": [
      "tensor([[[ 1.,  2.,  3.],\n",
      "         [ 4.,  5.,  6.],\n",
      "         [ 7.,  8.,  9.]],\n",
      "\n",
      "        [[10., 11., 12.],\n",
      "         [13., 14., 15.],\n",
      "         [16., 17., 18.]]])\n",
      "torch.Size([2, 3, 3])\n"
     ]
    }
   ],
   "source": [
    "# z = torch.stack([x, y])\n",
    "z = torch.cat([x.unsqueeze(0), y.unsqueeze(0)], dim=0)\n",
    "print(z)\n",
    "print(z.size())"
   ]
  },
  {
   "cell_type": "markdown",
   "metadata": {},
   "source": [
    "### Useful Trick: Merge results from iterations"
   ]
  },
  {
   "cell_type": "code",
   "execution_count": 19,
   "metadata": {},
   "outputs": [
    {
     "data": {
      "text/plain": [
       "torch.Size([5, 2, 2])"
      ]
     },
     "execution_count": 19,
     "metadata": {},
     "output_type": "execute_result"
    }
   ],
   "source": [
    "result = []\n",
    "for i in range(5):\n",
    "    x = torch.FloatTensor(2, 2)\n",
    "    result += [x]\n",
    "\n",
    "result = torch.stack(result)\n",
    "result.size()"
   ]
  }
 ],
 "metadata": {
  "kernelspec": {
   "display_name": "Python 3 (ipykernel)",
   "language": "python",
   "name": "python3"
  },
  "language_info": {
   "codemirror_mode": {
    "name": "ipython",
    "version": 3
   },
   "file_extension": ".py",
   "mimetype": "text/x-python",
   "name": "python",
   "nbconvert_exporter": "python",
   "pygments_lexer": "ipython3",
   "version": "3.10.6"
  }
 },
 "nbformat": 4,
 "nbformat_minor": 4
}
