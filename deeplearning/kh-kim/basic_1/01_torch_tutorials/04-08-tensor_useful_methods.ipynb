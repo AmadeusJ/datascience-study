{
 "cells": [
  {
   "cell_type": "markdown",
   "metadata": {},
   "source": [
    "# PyTorch Useful Methods"
   ]
  },
  {
   "cell_type": "code",
   "execution_count": 2,
   "metadata": {},
   "outputs": [],
   "source": [
    "import torch"
   ]
  },
  {
   "cell_type": "markdown",
   "metadata": {},
   "source": [
    "### expand: copy the given tensor and concat those at desired dimension."
   ]
  },
  {
   "cell_type": "code",
   "execution_count": 3,
   "metadata": {},
   "outputs": [
    {
     "name": "stdout",
     "output_type": "stream",
     "text": [
      "torch.Size([2, 1, 2])\n"
     ]
    }
   ],
   "source": [
    "x = torch.FloatTensor([[[1, 2]],\n",
    "                       [[3, 4]]])\n",
    "print(x.size())"
   ]
  },
  {
   "cell_type": "code",
   "execution_count": 4,
   "metadata": {},
   "outputs": [
    {
     "name": "stdout",
     "output_type": "stream",
     "text": [
      "tensor([[[1., 2.],\n",
      "         [1., 2.],\n",
      "         [1., 2.]],\n",
      "\n",
      "        [[3., 4.],\n",
      "         [3., 4.],\n",
      "         [3., 4.]]])\n",
      "torch.Size([2, 3, 2])\n"
     ]
    }
   ],
   "source": [
    "y = x.expand(*[2, 3, 2])\n",
    "\n",
    "print(y)\n",
    "print(y.size())"
   ]
  },
  {
   "cell_type": "markdown",
   "metadata": {},
   "source": [
    "#### Implement expand with cat."
   ]
  },
  {
   "cell_type": "code",
   "execution_count": 8,
   "metadata": {},
   "outputs": [
    {
     "name": "stdout",
     "output_type": "stream",
     "text": [
      "tensor([[[1., 2.],\n",
      "         [1., 2.],\n",
      "         [1., 2.]],\n",
      "\n",
      "        [[3., 4.],\n",
      "         [3., 4.],\n",
      "         [3., 4.]]])\n",
      "torch.Size([2, 3, 2])\n"
     ]
    }
   ],
   "source": [
    "y = torch.cat([x, x, x], dim=1)\n",
    "\n",
    "print(y)\n",
    "print(y.size())"
   ]
  },
  {
   "cell_type": "markdown",
   "metadata": {},
   "source": [
    "### randperm: Random Permutation"
   ]
  },
  {
   "cell_type": "code",
   "execution_count": 5,
   "metadata": {},
   "outputs": [
    {
     "name": "stdout",
     "output_type": "stream",
     "text": [
      "tensor([1, 9, 6, 4, 0, 7, 3, 5, 2, 8])\n",
      "torch.Size([10])\n"
     ]
    }
   ],
   "source": [
    "x = torch.randperm(10)\n",
    "\n",
    "print(x)\n",
    "print(x.size())"
   ]
  },
  {
   "cell_type": "markdown",
   "metadata": {},
   "source": [
    "### argmax: Return index of maximum values"
   ]
  },
  {
   "cell_type": "code",
   "execution_count": 13,
   "metadata": {
    "scrolled": true
   },
   "outputs": [
    {
     "name": "stdout",
     "output_type": "stream",
     "text": [
      "tensor([[[24, 20,  7],\n",
      "         [22, 25, 21],\n",
      "         [ 6,  1,  4]],\n",
      "\n",
      "        [[26, 12,  5],\n",
      "         [17,  0,  2],\n",
      "         [19,  9, 16]],\n",
      "\n",
      "        [[23, 15, 13],\n",
      "         [14, 18,  8],\n",
      "         [11,  3, 10]]])\n",
      "torch.Size([3, 3, 3])\n"
     ]
    }
   ],
   "source": [
    "x = torch.randperm(3**3).reshape(3, 3, -1)\n",
    "\n",
    "print(x)\n",
    "print(x.size())"
   ]
  },
  {
   "cell_type": "code",
   "execution_count": 7,
   "metadata": {},
   "outputs": [
    {
     "name": "stdout",
     "output_type": "stream",
     "text": [
      "tensor([[2, 1, 0],\n",
      "        [2, 1, 2],\n",
      "        [2, 1, 0]])\n",
      "torch.Size([3, 3])\n"
     ]
    }
   ],
   "source": [
    "y = x.argmax(dim=-1)\n",
    "\n",
    "print(y)\n",
    "print(y.size())"
   ]
  },
  {
   "cell_type": "markdown",
   "metadata": {},
   "source": [
    "`argmax` 함수는 주어진 텐서에서 가장 큰 값의 인덱스를 반환하는 함수입니다. 이 함수는 주로 머신러닝과 딥러닝에서 클래스 분류 결과를 처리할 때 많이 사용됩니다. 예를 들어, 모델의 출력이 여러 클래스에 대한 확률일 때, `argmax`를 사용하여 가장 높은 확률을 가진 클래스를 선택할 수 있습니다.\n",
    "\n",
    "### `argmax` 함수의 기본 개념\n",
    "\n",
    "- **기능**: `argmax`는 특정 차원(dimension)에서 가장 큰 값이 위치한 인덱스를 반환합니다.\n",
    "- **입력**: `argmax`는 텐서와 선택적인 `dim` 파라미터를 입력으로 받습니다.\n",
    "  - `dim`은 어떤 차원에서 최대 값을 찾을 것인지 지정합니다.\n",
    "  - `dim`을 지정하지 않으면, 텐서를 1차원으로 펼친 후 전체에서 가장 큰 값의 인덱스를 반환합니다.\n",
    "- **출력**: 가장 큰 값의 인덱스를 담고 있는 텐서가 반환됩니다. 반환되는 텐서의 크기는 원본 텐서에서 `dim` 차원이 제거된 형태가 됩니다.\n",
    "\n",
    "### 예시\n",
    "\n",
    "```python\n",
    "import torch\n",
    "\n",
    "# 1차원 텐서의 예시\n",
    "a = torch.tensor([1, 3, 2])\n",
    "index = torch.argmax(a)\n",
    "print(index)  # 출력: tensor(1), 인덱스 1이 가장 큰 값(3)의 위치\n",
    "\n",
    "# 2차원 텐서의 예시\n",
    "b = torch.tensor([[1, 2, 3],\n",
    "                  [4, 5, 6]])\n",
    "index = torch.argmax(b, dim=0)  # 각 열에서 최대 값의 인덱스\n",
    "print(index)  # 출력: tensor([1, 1, 1])\n",
    "\n",
    "index = torch.argmax(b, dim=1)  # 각 행에서 최대 값의 인덱스\n",
    "print(index)  # 출력: tensor([2, 2])\n",
    "```\n",
    "\n",
    "### 파라미터\n",
    "\n",
    "- **`dim`**: `argmax` 함수에 전달할 수 있는 중요한 파라미터로, 특정 차원을 지정합니다. `dim`을 설정하면, 해당 차원에 따라 최대 값을 찾아 인덱스를 반환합니다.\n",
    "  - 예를 들어, `dim=0`으로 설정하면 각 열(column)에서 최대 값의 인덱스를 반환합니다.\n",
    "  - `dim=1`으로 설정하면 각 행(row)에서 최대 값의 인덱스를 반환합니다.\n",
    "\n",
    "### 실제 활용 예\n",
    "\n",
    "- **분류 모델의 예측**: 모델의 출력이 각 클래스에 대한 확률값(또는 점수)으로 나타날 때, `argmax`를 사용하여 가장 높은 확률을 가진 클래스를 선택합니다.\n",
    "  \n",
    "  ```python\n",
    "  # 예를 들어, 모델의 출력이 다음과 같다면\n",
    "  output = torch.tensor([0.1, 0.7, 0.2])\n",
    "  \n",
    "  # 가장 높은 확률을 가진 클래스의 인덱스를 찾습니다\n",
    "  predicted_class = torch.argmax(output)\n",
    "  print(predicted_class)  # 출력: tensor(1)\n",
    "  ```\n",
    "\n",
    "### 요약\n",
    "\n",
    "- **`argmax`**는 주어진 텐서에서 가장 큰 값의 인덱스를 반환하는 함수입니다.\n",
    "- **차원 지정**: `dim` 파라미터를 통해 특정 차원에서 최대 값을 찾을 수 있습니다.\n",
    "- **주로 사용되는 경우**: 분류 문제에서 모델의 예측 값을 기반으로 가장 가능성이 높은 클래스를 선택할 때 자주 사용됩니다.\n",
    "\n",
    "`argmax`는 텐서의 데이터에서 가장 중요한 요소를 빠르게 식별하는 데 매우 유용한 함수입니다."
   ]
  },
  {
   "cell_type": "markdown",
   "metadata": {},
   "source": [
    "### topk: Return tuple of top-k values and indices."
   ]
  },
  {
   "cell_type": "markdown",
   "metadata": {},
   "source": [
    "`topk` 함수는 PyTorch에서 주어진 텐서에서 상위 `k`개의 값과 그에 대응하는 인덱스를 반환하는 함수입니다. 이 함수는 `argmax`와 유사하지만, `argmax`가 가장 큰 값 하나의 인덱스를 반환하는 것과 달리, `topk`는 여러 개의 상위 값을 선택할 수 있습니다.\n",
    "\n",
    "### `topk` 함수의 기본 개념\n",
    "\n",
    "- **기능**: 주어진 텐서에서 상위 `k`개의 값과 그 값들의 인덱스를 반환합니다.\n",
    "- **입력**:\n",
    "  - 텐서: `topk`를 적용할 대상 텐서.\n",
    "  - `k`: 반환할 상위 값의 개수.\n",
    "  - `dim`: 어떤 차원에서 상위 `k`개를 찾을지 지정합니다. (기본값은 `-1`, 즉 마지막 차원)\n",
    "  - `largest`: `True`일 경우 가장 큰 값 `k`개를 반환하고, `False`일 경우 가장 작은 값 `k`개를 반환합니다.\n",
    "  - `sorted`: `True`일 경우 반환된 값들이 내림차순(큰 값에서 작은 값 순)으로 정렬됩니다. (기본값: `True`)\n",
    "\n",
    "- **출력**: `(values, indices)`의 튜플 형태로 반환되며,\n",
    "  - `values`는 상위 `k`개의 값을 포함한 텐서입니다.\n",
    "  - `indices`는 그 값들이 위치한 인덱스를 포함한 텐서입니다.\n",
    "\n",
    "### 예시\n",
    "\n",
    "```python\n",
    "import torch\n",
    "\n",
    "# 1차원 텐서의 예시\n",
    "a = torch.tensor([1, 3, 5, 7, 9])\n",
    "values, indices = torch.topk(a, k=3)\n",
    "print(values)   # 출력: tensor([9, 7, 5])\n",
    "print(indices)  # 출력: tensor([4, 3, 2])\n",
    "\n",
    "# 2차원 텐서의 예시\n",
    "b = torch.tensor([[1, 6, 3],\n",
    "                  [4, 8, 2],\n",
    "                  [5, 7, 9]])\n",
    "values, indices = torch.topk(b, k=2, dim=1)\n",
    "print(values)   # 각 행에서 상위 2개의 값: tensor([[6, 3], [8, 4], [9, 7]])\n",
    "print(indices)  # 상위 2개 값의 인덱스: tensor([[1, 2], [1, 0], [2, 1]])\n",
    "```\n",
    "\n",
    "### 파라미터\n",
    "\n",
    "- **`k`**: 반환할 상위 값의 개수를 지정합니다.\n",
    "- **`dim`**: 상위 값을 찾을 차원을 지정합니다.\n",
    "  - 예를 들어, `dim=0`이면 각 열에서 상위 `k`개를 찾고, `dim=1`이면 각 행에서 상위 `k`개를 찾습니다.\n",
    "- **`largest`**: `True`일 경우 가장 큰 값들을 반환하고, `False`일 경우 가장 작은 값들을 반환합니다.\n",
    "- **`sorted`**: `True`일 경우 반환된 값들이 내림차순으로 정렬됩니다.\n",
    "\n",
    "### 실제 활용 예\n",
    "\n",
    "- **분류 모델의 다중 예측 결과**:\n",
    "  - 모델이 여러 클래스를 예측할 때, 상위 `k`개의 예측 결과를 확인하고자 할 때 사용할 수 있습니다. 예를 들어, 이미지 분류 모델에서 모델이 예측한 상위 `k`개의 클래스와 그 확률을 보고자 할 때 유용합니다.\n",
    "\n",
    "  ```python\n",
    "  # 예를 들어, 모델의 출력이 다음과 같다면\n",
    "  output = torch.tensor([0.1, 0.7, 0.2, 0.5])\n",
    "  \n",
    "  # 상위 2개의 값을 찾습니다\n",
    "  values, indices = torch.topk(output, k=2)\n",
    "  print(values)   # 출력: tensor([0.7, 0.5])\n",
    "  print(indices)  # 출력: tensor([1, 3])\n",
    "  ```\n",
    "\n",
    "  이 예에서는 두 번째 요소(`0.7`)와 네 번째 요소(`0.5`)가 상위 2개의 값으로 선택되었습니다.\n",
    "\n",
    "### 요약\n",
    "\n",
    "- **`topk` 함수**는 텐서에서 상위 `k`개의 값과 그 인덱스를 반환합니다.\n",
    "- **차원 지정**: `dim` 파라미터를 사용해 어느 차원에서 상위 `k`개를 찾을지 지정할 수 있습니다.\n",
    "- **주로 사용되는 경우**: 여러 클래스에 대한 확률을 다루는 분류 문제에서 상위 `k`개의 예측 결과를 선택할 때 자주 사용됩니다.\n",
    "\n",
    "`topk` 함수는 데이터에서 중요한 상위 요소들을 빠르게 식별할 수 있는 매우 유용한 도구입니다."
   ]
  },
  {
   "cell_type": "code",
   "execution_count": 19,
   "metadata": {},
   "outputs": [
    {
     "name": "stdout",
     "output_type": "stream",
     "text": [
      "tensor([[[24],\n",
      "         [25],\n",
      "         [ 6]],\n",
      "\n",
      "        [[26],\n",
      "         [17],\n",
      "         [19]],\n",
      "\n",
      "        [[23],\n",
      "         [18],\n",
      "         [11]]]) tensor([[[0],\n",
      "         [1],\n",
      "         [0]],\n",
      "\n",
      "        [[0],\n",
      "         [0],\n",
      "         [0]],\n",
      "\n",
      "        [[0],\n",
      "         [1],\n",
      "         [0]]])\n",
      "torch.Size([3, 3, 1])\n",
      "torch.Size([3, 3, 1])\n"
     ]
    }
   ],
   "source": [
    "values, indices = torch.topk(x, k=1, dim=-1)\n",
    "\n",
    "print(values, indices)\n",
    "print(values.size())\n",
    "print(indices.size())"
   ]
  },
  {
   "cell_type": "markdown",
   "metadata": {},
   "source": [
    "Note that topk didn't reduce the dimension, even in $k=1$ case."
   ]
  },
  {
   "cell_type": "code",
   "execution_count": 16,
   "metadata": {},
   "outputs": [
    {
     "name": "stdout",
     "output_type": "stream",
     "text": [
      "tensor([[24, 25,  6],\n",
      "        [26, 17, 19],\n",
      "        [23, 18, 11]])\n",
      "tensor([[0, 1, 0],\n",
      "        [0, 0, 0],\n",
      "        [0, 1, 0]])\n"
     ]
    }
   ],
   "source": [
    "print(values.squeeze(-1))\n",
    "print(indices.squeeze(-1))"
   ]
  },
  {
   "cell_type": "code",
   "execution_count": 17,
   "metadata": {},
   "outputs": [
    {
     "name": "stdout",
     "output_type": "stream",
     "text": [
      "tensor([[True, True, True],\n",
      "        [True, True, True],\n",
      "        [True, True, True]])\n"
     ]
    }
   ],
   "source": [
    "print(x.argmax(dim=-1) == indices.squeeze(-1))"
   ]
  },
  {
   "cell_type": "code",
   "execution_count": 11,
   "metadata": {},
   "outputs": [
    {
     "name": "stdout",
     "output_type": "stream",
     "text": [
      "torch.Size([3, 3, 2])\n",
      "tensor([[True, True, True],\n",
      "        [True, True, True],\n",
      "        [True, True, True]])\n"
     ]
    }
   ],
   "source": [
    "_, indices = torch.topk(x, k=2, dim=-1)\n",
    "print(indices.size())\n",
    "\n",
    "print(x.argmax(dim=-1) == indices[:, :, 0])"
   ]
  },
  {
   "cell_type": "markdown",
   "metadata": {},
   "source": [
    "### Sort by using topk"
   ]
  },
  {
   "cell_type": "code",
   "execution_count": 12,
   "metadata": {},
   "outputs": [
    {
     "name": "stdout",
     "output_type": "stream",
     "text": [
      "tensor([[[25, 18,  9],\n",
      "         [16,  8,  0],\n",
      "         [24, 20, 14]],\n",
      "\n",
      "        [[17,  4,  1],\n",
      "         [22,  7,  2],\n",
      "         [12, 10,  5]],\n",
      "\n",
      "        [[23, 15, 13],\n",
      "         [21, 19,  3],\n",
      "         [26, 11,  6]]])\n"
     ]
    }
   ],
   "source": [
    "target_dim = -1\n",
    "values, indices = torch.topk(x,\n",
    "                             k=x.size(target_dim),\n",
    "                             largest=True)\n",
    "\n",
    "print(values)"
   ]
  },
  {
   "cell_type": "markdown",
   "metadata": {},
   "source": [
    "### Topk by using sort"
   ]
  },
  {
   "cell_type": "code",
   "execution_count": 21,
   "metadata": {},
   "outputs": [
    {
     "name": "stdout",
     "output_type": "stream",
     "text": [
      "tensor([[[24],\n",
      "         [25],\n",
      "         [ 6]],\n",
      "\n",
      "        [[26],\n",
      "         [17],\n",
      "         [19]],\n",
      "\n",
      "        [[23],\n",
      "         [18],\n",
      "         [11]]]) tensor([[[0],\n",
      "         [1],\n",
      "         [0]],\n",
      "\n",
      "        [[0],\n",
      "         [0],\n",
      "         [0]],\n",
      "\n",
      "        [[0],\n",
      "         [1],\n",
      "         [0]]])\n",
      "tensor([[24, 25,  6],\n",
      "        [26, 17, 19],\n",
      "        [23, 18, 11]])\n",
      "tensor([[0, 1, 0],\n",
      "        [0, 0, 0],\n",
      "        [0, 1, 0]])\n"
     ]
    }
   ],
   "source": [
    "k=1\n",
    "values, indices = torch.sort(x, dim=-1, descending=True)\n",
    "values, indices = values[:, :, :k], indices[:, :, :k]\n",
    "\n",
    "print(values, indices)\n",
    "print(values.squeeze(-1))\n",
    "print(indices.squeeze(-1))"
   ]
  },
  {
   "cell_type": "markdown",
   "metadata": {},
   "source": [
    "### masked_fill: fill the value if element of mask is True."
   ]
  },
  {
   "cell_type": "code",
   "execution_count": 14,
   "metadata": {},
   "outputs": [
    {
     "name": "stdout",
     "output_type": "stream",
     "text": [
      "tensor([[0., 1., 2.],\n",
      "        [3., 4., 5.],\n",
      "        [6., 7., 8.]])\n",
      "torch.Size([3, 3])\n"
     ]
    }
   ],
   "source": [
    "x = torch.FloatTensor([i for i in range(3**2)]).reshape(3, -1)\n",
    "\n",
    "print(x)\n",
    "print(x.size())"
   ]
  },
  {
   "cell_type": "code",
   "execution_count": 15,
   "metadata": {},
   "outputs": [
    {
     "name": "stdout",
     "output_type": "stream",
     "text": [
      "tensor([[False, False, False],\n",
      "        [False, False,  True],\n",
      "        [ True,  True,  True]])\n"
     ]
    }
   ],
   "source": [
    "mask = x > 4\n",
    "\n",
    "print(mask)"
   ]
  },
  {
   "cell_type": "code",
   "execution_count": 16,
   "metadata": {},
   "outputs": [
    {
     "name": "stdout",
     "output_type": "stream",
     "text": [
      "tensor([[ 0.,  1.,  2.],\n",
      "        [ 3.,  4., -1.],\n",
      "        [-1., -1., -1.]])\n"
     ]
    }
   ],
   "source": [
    "y = x.masked_fill(mask, value=-1)\n",
    "\n",
    "print(y)"
   ]
  },
  {
   "cell_type": "markdown",
   "metadata": {},
   "source": [
    "### Ones and Zeros"
   ]
  },
  {
   "cell_type": "code",
   "execution_count": 17,
   "metadata": {},
   "outputs": [
    {
     "name": "stdout",
     "output_type": "stream",
     "text": [
      "tensor([[1., 1., 1.],\n",
      "        [1., 1., 1.]])\n",
      "tensor([[0., 0., 0.],\n",
      "        [0., 0., 0.]])\n"
     ]
    }
   ],
   "source": [
    "print(torch.ones(2, 3))\n",
    "print(torch.zeros(2, 3))"
   ]
  },
  {
   "cell_type": "code",
   "execution_count": 18,
   "metadata": {},
   "outputs": [
    {
     "name": "stdout",
     "output_type": "stream",
     "text": [
      "torch.Size([2, 3])\n"
     ]
    }
   ],
   "source": [
    "x = torch.FloatTensor([[1, 2, 3],\n",
    "                       [4, 5, 6]])\n",
    "print(x.size())"
   ]
  },
  {
   "cell_type": "code",
   "execution_count": 19,
   "metadata": {},
   "outputs": [
    {
     "name": "stdout",
     "output_type": "stream",
     "text": [
      "tensor([[1., 1., 1.],\n",
      "        [1., 1., 1.]])\n",
      "tensor([[0., 0., 0.],\n",
      "        [0., 0., 0.]])\n"
     ]
    }
   ],
   "source": [
    "print(torch.ones_like(x))\n",
    "print(torch.zeros_like(x))"
   ]
  }
 ],
 "metadata": {
  "kernelspec": {
   "display_name": "Python 3 (ipykernel)",
   "language": "python",
   "name": "python3"
  },
  "language_info": {
   "codemirror_mode": {
    "name": "ipython",
    "version": 3
   },
   "file_extension": ".py",
   "mimetype": "text/x-python",
   "name": "python",
   "nbconvert_exporter": "python",
   "pygments_lexer": "ipython3",
   "version": "3.10.6"
  }
 },
 "nbformat": 4,
 "nbformat_minor": 4
}
