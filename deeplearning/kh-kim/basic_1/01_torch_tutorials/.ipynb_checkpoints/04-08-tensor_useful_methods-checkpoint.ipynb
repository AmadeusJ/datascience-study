{
 "cells": [
  {
   "cell_type": "markdown",
   "metadata": {},
   "source": [
    "# PyTorch Useful Methods"
   ]
  },
  {
   "cell_type": "code",
   "execution_count": 2,
   "metadata": {},
   "outputs": [],
   "source": [
    "import torch"
   ]
  },
  {
   "cell_type": "markdown",
   "metadata": {},
   "source": [
    "### expand: copy the given tensor and concat those at desired dimension."
   ]
  },
  {
   "cell_type": "code",
   "execution_count": 3,
   "metadata": {},
   "outputs": [
    {
     "name": "stdout",
     "output_type": "stream",
     "text": [
      "torch.Size([2, 1, 2])\n"
     ]
    }
   ],
   "source": [
    "x = torch.FloatTensor([[[1, 2]],\n",
    "                       [[3, 4]]])\n",
    "print(x.size())"
   ]
  },
  {
   "cell_type": "code",
   "execution_count": 4,
   "metadata": {},
   "outputs": [
    {
     "name": "stdout",
     "output_type": "stream",
     "text": [
      "tensor([[[1., 2.],\n",
      "         [1., 2.],\n",
      "         [1., 2.]],\n",
      "\n",
      "        [[3., 4.],\n",
      "         [3., 4.],\n",
      "         [3., 4.]]])\n",
      "torch.Size([2, 3, 2])\n"
     ]
    }
   ],
   "source": [
    "y = x.expand(*[2, 3, 2])\n",
    "\n",
    "print(y)\n",
    "print(y.size())"
   ]
  },
  {
   "cell_type": "markdown",
   "metadata": {},
   "source": [
    "#### Implement expand with cat."
   ]
  },
  {
   "cell_type": "code",
   "execution_count": 8,
   "metadata": {},
   "outputs": [
    {
     "name": "stdout",
     "output_type": "stream",
     "text": [
      "tensor([[[1., 2.],\n",
      "         [1., 2.],\n",
      "         [1., 2.]],\n",
      "\n",
      "        [[3., 4.],\n",
      "         [3., 4.],\n",
      "         [3., 4.]]])\n",
      "torch.Size([2, 3, 2])\n"
     ]
    }
   ],
   "source": [
    "y = torch.cat([x, x, x], dim=1)\n",
    "\n",
    "print(y)\n",
    "print(y.size())"
   ]
  },
  {
   "cell_type": "markdown",
   "metadata": {},
   "source": [
    "### randperm: Random Permutation"
   ]
  },
  {
   "cell_type": "code",
   "execution_count": 5,
   "metadata": {},
   "outputs": [
    {
     "name": "stdout",
     "output_type": "stream",
     "text": [
      "tensor([1, 9, 6, 4, 0, 7, 3, 5, 2, 8])\n",
      "torch.Size([10])\n"
     ]
    }
   ],
   "source": [
    "x = torch.randperm(10)\n",
    "\n",
    "print(x)\n",
    "print(x.size())"
   ]
  },
  {
   "cell_type": "markdown",
   "metadata": {},
   "source": [
    "### argmax: Return index of maximum values"
   ]
  },
  {
   "cell_type": "code",
   "execution_count": 13,
   "metadata": {
    "scrolled": true
   },
   "outputs": [
    {
     "name": "stdout",
     "output_type": "stream",
     "text": [
      "tensor([[[24, 20,  7],\n",
      "         [22, 25, 21],\n",
      "         [ 6,  1,  4]],\n",
      "\n",
      "        [[26, 12,  5],\n",
      "         [17,  0,  2],\n",
      "         [19,  9, 16]],\n",
      "\n",
      "        [[23, 15, 13],\n",
      "         [14, 18,  8],\n",
      "         [11,  3, 10]]])\n",
      "torch.Size([3, 3, 3])\n"
     ]
    }
   ],
   "source": [
    "x = torch.randperm(3**3).reshape(3, 3, -1)\n",
    "\n",
    "print(x)\n",
    "print(x.size())"
   ]
  },
  {
   "cell_type": "code",
   "execution_count": 7,
   "metadata": {},
   "outputs": [
    {
     "name": "stdout",
     "output_type": "stream",
     "text": [
      "tensor([[2, 1, 0],\n",
      "        [2, 1, 2],\n",
      "        [2, 1, 0]])\n",
      "torch.Size([3, 3])\n"
     ]
    }
   ],
   "source": [
    "y = x.argmax(dim=-1)\n",
    "\n",
    "print(y)\n",
    "print(y.size())"
   ]
  },
  {
   "cell_type": "markdown",
   "metadata": {},
   "source": [
    "`argmax` 함수는 주어진 텐서에서 가장 큰 값의 인덱스를 반환하는 함수입니다. 이 함수는 주로 머신러닝과 딥러닝에서 클래스 분류 결과를 처리할 때 많이 사용됩니다. 예를 들어, 모델의 출력이 여러 클래스에 대한 확률일 때, `argmax`를 사용하여 가장 높은 확률을 가진 클래스를 선택할 수 있습니다.\n",
    "\n",
    "### `argmax` 함수의 기본 개념\n",
    "\n",
    "- **기능**: `argmax`는 특정 차원(dimension)에서 가장 큰 값이 위치한 인덱스를 반환합니다.\n",
    "- **입력**: `argmax`는 텐서와 선택적인 `dim` 파라미터를 입력으로 받습니다.\n",
    "  - `dim`은 어떤 차원에서 최대 값을 찾을 것인지 지정합니다.\n",
    "  - `dim`을 지정하지 않으면, 텐서를 1차원으로 펼친 후 전체에서 가장 큰 값의 인덱스를 반환합니다.\n",
    "- **출력**: 가장 큰 값의 인덱스를 담고 있는 텐서가 반환됩니다. 반환되는 텐서의 크기는 원본 텐서에서 `dim` 차원이 제거된 형태가 됩니다.\n",
    "\n",
    "### 예시\n",
    "\n",
    "```python\n",
    "import torch\n",
    "\n",
    "# 1차원 텐서의 예시\n",
    "a = torch.tensor([1, 3, 2])\n",
    "index = torch.argmax(a)\n",
    "print(index)  # 출력: tensor(1), 인덱스 1이 가장 큰 값(3)의 위치\n",
    "\n",
    "# 2차원 텐서의 예시\n",
    "b = torch.tensor([[1, 2, 3],\n",
    "                  [4, 5, 6]])\n",
    "index = torch.argmax(b, dim=0)  # 각 열에서 최대 값의 인덱스\n",
    "print(index)  # 출력: tensor([1, 1, 1])\n",
    "\n",
    "index = torch.argmax(b, dim=1)  # 각 행에서 최대 값의 인덱스\n",
    "print(index)  # 출력: tensor([2, 2])\n",
    "```\n",
    "\n",
    "### 파라미터\n",
    "\n",
    "- **`dim`**: `argmax` 함수에 전달할 수 있는 중요한 파라미터로, 특정 차원을 지정합니다. `dim`을 설정하면, 해당 차원에 따라 최대 값을 찾아 인덱스를 반환합니다.\n",
    "  - 예를 들어, `dim=0`으로 설정하면 각 열(column)에서 최대 값의 인덱스를 반환합니다.\n",
    "  - `dim=1`으로 설정하면 각 행(row)에서 최대 값의 인덱스를 반환합니다.\n",
    "\n",
    "### 실제 활용 예\n",
    "\n",
    "- **분류 모델의 예측**: 모델의 출력이 각 클래스에 대한 확률값(또는 점수)으로 나타날 때, `argmax`를 사용하여 가장 높은 확률을 가진 클래스를 선택합니다.\n",
    "  \n",
    "  ```python\n",
    "  # 예를 들어, 모델의 출력이 다음과 같다면\n",
    "  output = torch.tensor([0.1, 0.7, 0.2])\n",
    "  \n",
    "  # 가장 높은 확률을 가진 클래스의 인덱스를 찾습니다\n",
    "  predicted_class = torch.argmax(output)\n",
    "  print(predicted_class)  # 출력: tensor(1)\n",
    "  ```\n",
    "\n",
    "### 요약\n",
    "\n",
    "- **`argmax`**는 주어진 텐서에서 가장 큰 값의 인덱스를 반환하는 함수입니다.\n",
    "- **차원 지정**: `dim` 파라미터를 통해 특정 차원에서 최대 값을 찾을 수 있습니다.\n",
    "- **주로 사용되는 경우**: 분류 문제에서 모델의 예측 값을 기반으로 가장 가능성이 높은 클래스를 선택할 때 자주 사용됩니다.\n",
    "\n",
    "`argmax`는 텐서의 데이터에서 가장 중요한 요소를 빠르게 식별하는 데 매우 유용한 함수입니다."
   ]
  },
  {
   "cell_type": "markdown",
   "metadata": {},
   "source": [
    "### topk: Return tuple of top-k values and indices."
   ]
  },
  {
   "cell_type": "markdown",
   "metadata": {},
   "source": [
    "`topk` 함수는 PyTorch에서 주어진 텐서에서 상위 `k`개의 값과 그에 대응하는 인덱스를 반환하는 함수입니다. 이 함수는 `argmax`와 유사하지만, `argmax`가 가장 큰 값 하나의 인덱스를 반환하는 것과 달리, `topk`는 여러 개의 상위 값을 선택할 수 있습니다.\n",
    "\n",
    "### `topk` 함수의 기본 개념\n",
    "\n",
    "- **기능**: 주어진 텐서에서 상위 `k`개의 값과 그 값들의 인덱스를 반환합니다.\n",
    "- **입력**:\n",
    "  - 텐서: `topk`를 적용할 대상 텐서.\n",
    "  - `k`: 반환할 상위 값의 개수.\n",
    "  - `dim`: 어떤 차원에서 상위 `k`개를 찾을지 지정합니다. (기본값은 `-1`, 즉 마지막 차원)\n",
    "  - `largest`: `True`일 경우 가장 큰 값 `k`개를 반환하고, `False`일 경우 가장 작은 값 `k`개를 반환합니다.\n",
    "  - `sorted`: `True`일 경우 반환된 값들이 내림차순(큰 값에서 작은 값 순)으로 정렬됩니다. (기본값: `True`)\n",
    "\n",
    "- **출력**: `(values, indices)`의 튜플 형태로 반환되며,\n",
    "  - `values`는 상위 `k`개의 값을 포함한 텐서입니다.\n",
    "  - `indices`는 그 값들이 위치한 인덱스를 포함한 텐서입니다.\n",
    "\n",
    "### 예시\n",
    "\n",
    "```python\n",
    "import torch\n",
    "\n",
    "# 1차원 텐서의 예시\n",
    "a = torch.tensor([1, 3, 5, 7, 9])\n",
    "values, indices = torch.topk(a, k=3)\n",
    "print(values)   # 출력: tensor([9, 7, 5])\n",
    "print(indices)  # 출력: tensor([4, 3, 2])\n",
    "\n",
    "# 2차원 텐서의 예시\n",
    "b = torch.tensor([[1, 6, 3],\n",
    "                  [4, 8, 2],\n",
    "                  [5, 7, 9]])\n",
    "values, indices = torch.topk(b, k=2, dim=1)\n",
    "print(values)   # 각 행에서 상위 2개의 값: tensor([[6, 3], [8, 4], [9, 7]])\n",
    "print(indices)  # 상위 2개 값의 인덱스: tensor([[1, 2], [1, 0], [2, 1]])\n",
    "```\n",
    "\n",
    "### 파라미터\n",
    "\n",
    "- **`k`**: 반환할 상위 값의 개수를 지정합니다.\n",
    "- **`dim`**: 상위 값을 찾을 차원을 지정합니다.\n",
    "  - 예를 들어, `dim=0`이면 각 열에서 상위 `k`개를 찾고, `dim=1`이면 각 행에서 상위 `k`개를 찾습니다.\n",
    "- **`largest`**: `True`일 경우 가장 큰 값들을 반환하고, `False`일 경우 가장 작은 값들을 반환합니다.\n",
    "- **`sorted`**: `True`일 경우 반환된 값들이 내림차순으로 정렬됩니다.\n",
    "\n",
    "### 실제 활용 예\n",
    "\n",
    "- **분류 모델의 다중 예측 결과**:\n",
    "  - 모델이 여러 클래스를 예측할 때, 상위 `k`개의 예측 결과를 확인하고자 할 때 사용할 수 있습니다. 예를 들어, 이미지 분류 모델에서 모델이 예측한 상위 `k`개의 클래스와 그 확률을 보고자 할 때 유용합니다.\n",
    "\n",
    "  ```python\n",
    "  # 예를 들어, 모델의 출력이 다음과 같다면\n",
    "  output = torch.tensor([0.1, 0.7, 0.2, 0.5])\n",
    "  \n",
    "  # 상위 2개의 값을 찾습니다\n",
    "  values, indices = torch.topk(output, k=2)\n",
    "  print(values)   # 출력: tensor([0.7, 0.5])\n",
    "  print(indices)  # 출력: tensor([1, 3])\n",
    "  ```\n",
    "\n",
    "  이 예에서는 두 번째 요소(`0.7`)와 네 번째 요소(`0.5`)가 상위 2개의 값으로 선택되었습니다.\n",
    "\n",
    "### 요약\n",
    "\n",
    "- **`topk` 함수**는 텐서에서 상위 `k`개의 값과 그 인덱스를 반환합니다.\n",
    "- **차원 지정**: `dim` 파라미터를 사용해 어느 차원에서 상위 `k`개를 찾을지 지정할 수 있습니다.\n",
    "- **주로 사용되는 경우**: 여러 클래스에 대한 확률을 다루는 분류 문제에서 상위 `k`개의 예측 결과를 선택할 때 자주 사용됩니다.\n",
    "\n",
    "`topk` 함수는 데이터에서 중요한 상위 요소들을 빠르게 식별할 수 있는 매우 유용한 도구입니다."
   ]
  },
  {
   "cell_type": "code",
   "execution_count": 19,
   "metadata": {},
   "outputs": [
    {
     "name": "stdout",
     "output_type": "stream",
     "text": [
      "tensor([[[24],\n",
      "         [25],\n",
      "         [ 6]],\n",
      "\n",
      "        [[26],\n",
      "         [17],\n",
      "         [19]],\n",
      "\n",
      "        [[23],\n",
      "         [18],\n",
      "         [11]]]) tensor([[[0],\n",
      "         [1],\n",
      "         [0]],\n",
      "\n",
      "        [[0],\n",
      "         [0],\n",
      "         [0]],\n",
      "\n",
      "        [[0],\n",
      "         [1],\n",
      "         [0]]])\n",
      "torch.Size([3, 3, 1])\n",
      "torch.Size([3, 3, 1])\n"
     ]
    }
   ],
   "source": [
    "values, indices = torch.topk(x, k=1, dim=-1)\n",
    "\n",
    "print(values, indices)\n",
    "print(values.size())\n",
    "print(indices.size())"
   ]
  },
  {
   "cell_type": "markdown",
   "metadata": {},
   "source": [
    "Note that topk didn't reduce the dimension, even in $k=1$ case."
   ]
  },
  {
   "cell_type": "code",
   "execution_count": 16,
   "metadata": {},
   "outputs": [
    {
     "name": "stdout",
     "output_type": "stream",
     "text": [
      "tensor([[24, 25,  6],\n",
      "        [26, 17, 19],\n",
      "        [23, 18, 11]])\n",
      "tensor([[0, 1, 0],\n",
      "        [0, 0, 0],\n",
      "        [0, 1, 0]])\n"
     ]
    }
   ],
   "source": [
    "print(values.squeeze(-1))\n",
    "print(indices.squeeze(-1))"
   ]
  },
  {
   "cell_type": "code",
   "execution_count": 17,
   "metadata": {},
   "outputs": [
    {
     "name": "stdout",
     "output_type": "stream",
     "text": [
      "tensor([[True, True, True],\n",
      "        [True, True, True],\n",
      "        [True, True, True]])\n"
     ]
    }
   ],
   "source": [
    "print(x.argmax(dim=-1) == indices.squeeze(-1))"
   ]
  },
  {
   "cell_type": "code",
   "execution_count": 11,
   "metadata": {},
   "outputs": [
    {
     "name": "stdout",
     "output_type": "stream",
     "text": [
      "torch.Size([3, 3, 2])\n",
      "tensor([[True, True, True],\n",
      "        [True, True, True],\n",
      "        [True, True, True]])\n"
     ]
    }
   ],
   "source": [
    "_, indices = torch.topk(x, k=2, dim=-1)\n",
    "print(indices.size())\n",
    "\n",
    "print(x.argmax(dim=-1) == indices[:, :, 0])"
   ]
  },
  {
   "cell_type": "markdown",
   "metadata": {},
   "source": [
    "### Sort by using topk"
   ]
  },
  {
   "cell_type": "code",
   "execution_count": 12,
   "metadata": {},
   "outputs": [
    {
     "name": "stdout",
     "output_type": "stream",
     "text": [
      "tensor([[[25, 18,  9],\n",
      "         [16,  8,  0],\n",
      "         [24, 20, 14]],\n",
      "\n",
      "        [[17,  4,  1],\n",
      "         [22,  7,  2],\n",
      "         [12, 10,  5]],\n",
      "\n",
      "        [[23, 15, 13],\n",
      "         [21, 19,  3],\n",
      "         [26, 11,  6]]])\n"
     ]
    }
   ],
   "source": [
    "target_dim = -1\n",
    "values, indices = torch.topk(x,\n",
    "                             k=x.size(target_dim),\n",
    "                             largest=True)\n",
    "\n",
    "print(values)"
   ]
  },
  {
   "cell_type": "markdown",
   "metadata": {},
   "source": [
    "### Topk by using sort"
   ]
  },
  {
   "cell_type": "code",
   "execution_count": 21,
   "metadata": {},
   "outputs": [
    {
     "name": "stdout",
     "output_type": "stream",
     "text": [
      "tensor([[[24],\n",
      "         [25],\n",
      "         [ 6]],\n",
      "\n",
      "        [[26],\n",
      "         [17],\n",
      "         [19]],\n",
      "\n",
      "        [[23],\n",
      "         [18],\n",
      "         [11]]]) tensor([[[0],\n",
      "         [1],\n",
      "         [0]],\n",
      "\n",
      "        [[0],\n",
      "         [0],\n",
      "         [0]],\n",
      "\n",
      "        [[0],\n",
      "         [1],\n",
      "         [0]]])\n",
      "tensor([[24, 25,  6],\n",
      "        [26, 17, 19],\n",
      "        [23, 18, 11]])\n",
      "tensor([[0, 1, 0],\n",
      "        [0, 0, 0],\n",
      "        [0, 1, 0]])\n"
     ]
    }
   ],
   "source": [
    "k=1\n",
    "values, indices = torch.sort(x, dim=-1, descending=True)\n",
    "values, indices = values[:, :, :k], indices[:, :, :k]\n",
    "\n",
    "print(values, indices)\n",
    "print(values.squeeze(-1))\n",
    "print(indices.squeeze(-1))"
   ]
  },
  {
   "cell_type": "markdown",
   "metadata": {},
   "source": [
    "이 코드는 주어진 텐서 `x`에서 각 마지막 차원(`dim=-1`)에 대해 정렬을 수행한 후, 상위 `k`개의 값과 그 인덱스를 추출하는 과정입니다. 코드를 단계별로 설명하겠습니다.\n",
    "\n",
    "### 코드 설명\n",
    "\n",
    "```python\n",
    "k = 1\n",
    "values, indices = torch.sort(x, dim=-1, descending=True)\n",
    "values, indices = values[:, :, :k], indices[:, :, :k]\n",
    "```\n",
    "\n",
    "#### 1. `k = 1`\n",
    "- `k`는 추출하고자 하는 상위 값의 개수를 나타냅니다. 이 코드에서는 `k=1`로 설정되어 있으므로, 각 마지막 차원에서 가장 큰 값을 하나만 선택하게 됩니다.\n",
    "\n",
    "#### 2. `values, indices = torch.sort(x, dim=-1, descending=True)`\n",
    "- **`torch.sort(x, dim=-1, descending=True)`**: \n",
    "  - 텐서 `x`의 마지막 차원(`dim=-1`)을 기준으로 각 요소들을 내림차순(`descending=True`)으로 정렬합니다.\n",
    "  - 이 함수는 두 개의 텐서를 반환합니다:\n",
    "    - `values`: 정렬된 값들을 포함하는 텐서.\n",
    "    - `indices`: 원래 텐서에서 이 값들이 위치했던 인덱스를 포함하는 텐서.\n",
    "  - 예를 들어, 만약 `x`가 2차원 텐서라면 `dim=-1`은 열 방향(각 행에서의 값)으로 정렬이 이루어집니다.\n",
    "\n",
    "#### 3. `values, indices = values[:, :, :k], indices[:, :, :k]`\n",
    "- **슬라이싱(`[:, :, :k]`)**:\n",
    "  - 이 부분에서는 마지막 차원에 대해 슬라이싱을 수행하여 상위 `k`개의 값과 그 인덱스를 추출합니다.\n",
    "  - `:`는 해당 차원의 모든 요소를 선택한다는 뜻입니다. 예를 들어, `values[:, :, :k]`은:\n",
    "    - 첫 번째 차원: `:` → 모든 요소 선택\n",
    "    - 두 번째 차원: `:` → 모든 요소 선택\n",
    "    - 세 번째 차원: `:k` → 상위 `k`개의 요소만 선택\n",
    "    \n",
    "  - 결과적으로, `values`와 `indices` 텐서는 마지막 차원의 크기가 `k`로 축소된 형태가 됩니다.\n",
    "\n",
    "### 예시\n",
    "\n",
    "가정해 봅시다, `x`가 다음과 같은 3차원 텐서라고 해봅시다:\n",
    "\n",
    "```python\n",
    "x = torch.tensor([[[4, 2, 3],\n",
    "                   [9, 1, 5]],\n",
    "                  [[6, 8, 7],\n",
    "                   [0, 4, 2]]])\n",
    "```\n",
    "\n",
    "이 텐서는 `(2, 2, 3)` 크기의 텐서입니다.\n",
    "\n",
    "1. **정렬**:\n",
    "   ```python\n",
    "   values, indices = torch.sort(x, dim=-1, descending=True)\n",
    "   ```\n",
    "   여기서 `values`와 `indices`는 다음과 같이 됩니다:\n",
    "\n",
    "   ```python\n",
    "   values = tensor([[[4, 3, 2],\n",
    "                     [9, 5, 1]],\n",
    "                    [[8, 7, 6],\n",
    "                     [4, 2, 0]]])\n",
    "   \n",
    "   indices = tensor([[[0, 2, 1],\n",
    "                      [0, 2, 1]],\n",
    "                     [[1, 2, 0],\n",
    "                      [1, 2, 0]]])\n",
    "   ```\n",
    "\n",
    "   여기서 `values`는 `x` 텐서의 마지막 차원(`dim=-1`)을 내림차순으로 정렬한 값들이며, `indices`는 원래 `x` 텐서에서 각 값들이 위치한 인덱스를 나타냅니다.\n",
    "\n",
    "2. **상위 `k`개의 값 선택**:\n",
    "   ```python\n",
    "   values, indices = values[:, :, :k], indices[:, :, :k]\n",
    "   ```\n",
    "   여기서 `k=1`이므로, 각 마지막 차원에서 가장 큰 값과 그 인덱스만을 선택하게 됩니다:\n",
    "\n",
    "   ```python\n",
    "   values = tensor([[[4],\n",
    "                     [9]],\n",
    "                    [[8],\n",
    "                     [4]]])\n",
    "\n",
    "   indices = tensor([[[0],\n",
    "                      [0]],\n",
    "                     [[1],\n",
    "                      [1]]])\n",
    "   ```\n",
    "\n",
    "### 요약\n",
    "\n",
    "- **`torch.sort(x, dim=-1, descending=True)`**: 텐서 `x`의 마지막 차원을 기준으로 내림차순 정렬된 값과 그 인덱스를 반환합니다.\n",
    "- **`values[:, :, :k]`**와 **`indices[:, :, :k]`**: 각 마지막 차원에서 상위 `k`개의 값과 그 인덱스를 선택하여 반환합니다.\n",
    "- 이 코드의 목적은 텐서의 각 마지막 차원에서 가장 큰 값(또는 상위 `k`개의 값)과 그 인덱스를 추출하는 것입니다."
   ]
  },
  {
   "cell_type": "markdown",
   "metadata": {},
   "source": [
    "### masked_fill: fill the value if element of mask is True."
   ]
  },
  {
   "cell_type": "code",
   "execution_count": 14,
   "metadata": {},
   "outputs": [
    {
     "name": "stdout",
     "output_type": "stream",
     "text": [
      "tensor([[0., 1., 2.],\n",
      "        [3., 4., 5.],\n",
      "        [6., 7., 8.]])\n",
      "torch.Size([3, 3])\n"
     ]
    }
   ],
   "source": [
    "x = torch.FloatTensor([i for i in range(3**2)]).reshape(3, -1)\n",
    "\n",
    "print(x)\n",
    "print(x.size())"
   ]
  },
  {
   "cell_type": "code",
   "execution_count": 15,
   "metadata": {},
   "outputs": [
    {
     "name": "stdout",
     "output_type": "stream",
     "text": [
      "tensor([[False, False, False],\n",
      "        [False, False,  True],\n",
      "        [ True,  True,  True]])\n"
     ]
    }
   ],
   "source": [
    "mask = x > 4\n",
    "\n",
    "print(mask)"
   ]
  },
  {
   "cell_type": "code",
   "execution_count": 16,
   "metadata": {},
   "outputs": [
    {
     "name": "stdout",
     "output_type": "stream",
     "text": [
      "tensor([[ 0.,  1.,  2.],\n",
      "        [ 3.,  4., -1.],\n",
      "        [-1., -1., -1.]])\n"
     ]
    }
   ],
   "source": [
    "y = x.masked_fill(mask, value=-1)\n",
    "\n",
    "print(y)"
   ]
  },
  {
   "cell_type": "markdown",
   "metadata": {},
   "source": [
    "### Ones and Zeros"
   ]
  },
  {
   "cell_type": "code",
   "execution_count": 17,
   "metadata": {},
   "outputs": [
    {
     "name": "stdout",
     "output_type": "stream",
     "text": [
      "tensor([[1., 1., 1.],\n",
      "        [1., 1., 1.]])\n",
      "tensor([[0., 0., 0.],\n",
      "        [0., 0., 0.]])\n"
     ]
    }
   ],
   "source": [
    "print(torch.ones(2, 3))\n",
    "print(torch.zeros(2, 3))"
   ]
  },
  {
   "cell_type": "code",
   "execution_count": 18,
   "metadata": {},
   "outputs": [
    {
     "name": "stdout",
     "output_type": "stream",
     "text": [
      "torch.Size([2, 3])\n"
     ]
    }
   ],
   "source": [
    "x = torch.FloatTensor([[1, 2, 3],\n",
    "                       [4, 5, 6]])\n",
    "print(x.size())"
   ]
  },
  {
   "cell_type": "code",
   "execution_count": 19,
   "metadata": {},
   "outputs": [
    {
     "name": "stdout",
     "output_type": "stream",
     "text": [
      "tensor([[1., 1., 1.],\n",
      "        [1., 1., 1.]])\n",
      "tensor([[0., 0., 0.],\n",
      "        [0., 0., 0.]])\n"
     ]
    }
   ],
   "source": [
    "print(torch.ones_like(x))\n",
    "print(torch.zeros_like(x))"
   ]
  },
  {
   "cell_type": "markdown",
   "metadata": {},
   "source": [
    "`ones_like`와 `ones`는 서로 다른 사용 시나리오에서 유용하기 때문에 둘 다 존재합니다. 각 함수는 특정 상황에서 더 적합한 선택이 될 수 있습니다.\n",
    "\n",
    "### `ones_like`의 사용 상황\n",
    "- **기존 텐서와 동일한 크기와 타입을 가진 새로운 텐서를 생성할 때** 유용합니다.\n",
    "- **기존 텐서가 이미 있고, 그 텐서와 동일한 모양과 데이터 타입을 가진 텐서가 필요할 때** 사용됩니다.\n",
    "- **기존 텐서를 참조**하여 크기와 dtype을 자동으로 맞출 수 있기 때문에, 텐서의 속성을 직접 지정하지 않아도 됩니다.\n",
    "\n",
    "예를 들어, 모델에서 특정 연산의 결과를 다른 텐서와 동일한 모양으로 초기화해야 할 때 유용합니다:\n",
    "\n",
    "```python\n",
    "x = torch.randn(3, 4, dtype=torch.float32)\n",
    "y = torch.ones_like(x)  # x와 동일한 크기와 dtype을 가진 텐서 생성\n",
    "```\n",
    "\n",
    "### `ones`의 사용 상황\n",
    "- **새로운 텐서를 직접 생성**할 때, 기존 텐서와 관계없이 특정 크기와 dtype을 명시적으로 지정하고자 할 때 유용합니다.\n",
    "- **새로운 프로젝트나 모델을 시작할 때** 사용됩니다. 기존의 참조 텐서가 없는 경우, 또는 단순히 새로운 크기의 텐서를 필요로 할 때 사용합니다.\n",
    "- **다양한 형태의 텐서를 초기화할 때** 유연성을 제공합니다. 크기, dtype, 디바이스(device) 등을 직접 지정할 수 있습니다.\n",
    "\n",
    "예를 들어, 특정 크기와 데이터 타입을 지정하여 텐서를 초기화할 때 유용합니다:\n",
    "\n",
    "```python\n",
    "# 크기, dtype, device 등을 명시적으로 지정\n",
    "x = torch.ones(2, 3, dtype=torch.float64, device='cuda')\n",
    "```\n",
    "\n",
    "### 요약\n",
    "- **`ones_like`**는 **기존 텐서가 있을 때** 그와 동일한 크기와 데이터 타입을 가진 새로운 텐서를 생성하는 데 유용합니다.\n",
    "- **`ones`**는 **기존 텐서와 무관하게 새로운 텐서**를 원하는 크기와 속성으로 직접 생성할 때 유용합니다.\n",
    "\n",
    "둘 중 어느 함수를 사용할지는 **현재 상황**과 **목적**에 따라 다릅니다. 만약 기존 텐서의 속성을 그대로 유지하면서 새로운 텐서를 생성하려는 경우라면 `ones_like`가 편리하고, 반면에 특정 크기와 속성을 가진 텐서를 새로 생성하려면 `ones`를 사용하는 것이 더 적합합니다."
   ]
  },
  {
   "cell_type": "code",
   "execution_count": null,
   "metadata": {},
   "outputs": [],
   "source": []
  }
 ],
 "metadata": {
  "kernelspec": {
   "display_name": "Python 3 (ipykernel)",
   "language": "python",
   "name": "python3"
  },
  "language_info": {
   "codemirror_mode": {
    "name": "ipython",
    "version": 3
   },
   "file_extension": ".py",
   "mimetype": "text/x-python",
   "name": "python",
   "nbconvert_exporter": "python",
   "pygments_lexer": "ipython3",
   "version": "3.10.6"
  }
 },
 "nbformat": 4,
 "nbformat_minor": 4
}
