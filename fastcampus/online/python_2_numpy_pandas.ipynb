{
 "cells": [
  {
   "cell_type": "markdown",
   "id": "48f226c3",
   "metadata": {},
   "source": [
    "## Numpy\n",
    "\n",
    "- 데이터는 행열로 표현\n",
    "- 행열 데이터 빠르게 계산을 해야 합니다.\n",
    "- 행열 데이터 생성, 수정, 계산등을 빠르게 처리해주는 패키지\n",
    "- 특징\n",
    "    - C, C++, 포트란으로 작성\n",
    "    - 선형대수학을 빠르게 연산 -> / Scala, Vector, Matrix\n",
    "    "
   ]
  },
  {
   "cell_type": "code",
   "execution_count": 5,
   "id": "cc47a1d8",
   "metadata": {},
   "outputs": [
    {
     "name": "stdout",
     "output_type": "stream",
     "text": [
      "Requirement already satisfied: numpy in /Users/amadeusj/opt/anaconda3/envs/online/lib/python3.9/site-packages (1.21.2)\r\n"
     ]
    }
   ],
   "source": [
    "!pip install numpy"
   ]
  },
  {
   "cell_type": "code",
   "execution_count": 6,
   "id": "3048da23",
   "metadata": {},
   "outputs": [],
   "source": [
    "import numpy as np"
   ]
  },
  {
   "cell_type": "code",
   "execution_count": 7,
   "id": "2e664cc5",
   "metadata": {},
   "outputs": [
    {
     "data": {
      "text/plain": [
       "(numpy.ndarray, array([1, 2, 3]))"
      ]
     },
     "execution_count": 7,
     "metadata": {},
     "output_type": "execute_result"
    }
   ],
   "source": [
    "array = np.array([1, 2, 3])\n",
    "type(array), array"
   ]
  },
  {
   "cell_type": "code",
   "execution_count": 8,
   "id": "05d341f8",
   "metadata": {},
   "outputs": [
    {
     "data": {
      "text/plain": [
       "array([[1, 2, 3],\n",
       "       [4, 5, 6]])"
      ]
     },
     "execution_count": 8,
     "metadata": {},
     "output_type": "execute_result"
    }
   ],
   "source": [
    "array2 = np.array(\n",
    "    [[1, 2, 3],\n",
    "    [4, 5, 6]],\n",
    ")\n",
    "array2"
   ]
  },
  {
   "cell_type": "code",
   "execution_count": 10,
   "id": "a1600dfb",
   "metadata": {},
   "outputs": [
    {
     "data": {
      "text/plain": [
       "(2, (2, 3))"
      ]
     },
     "execution_count": 10,
     "metadata": {},
     "output_type": "execute_result"
    }
   ],
   "source": [
    "array2.ndim, array2.shape      # 행렬 차원, 모양 확인"
   ]
  },
  {
   "cell_type": "code",
   "execution_count": 13,
   "id": "65eaba0a",
   "metadata": {},
   "outputs": [
    {
     "data": {
      "text/plain": [
       "array([1, 2, 3, 4, 5, 6])"
      ]
     },
     "execution_count": 13,
     "metadata": {},
     "output_type": "execute_result"
    }
   ],
   "source": [
    "# 행렬 모양(shape) 변경하기\n",
    "\n",
    "array2.reshape(6)"
   ]
  },
  {
   "cell_type": "code",
   "execution_count": 14,
   "id": "5eafd477",
   "metadata": {},
   "outputs": [
    {
     "data": {
      "text/plain": [
       "array([[1, 2],\n",
       "       [3, 4],\n",
       "       [5, 6]])"
      ]
     },
     "execution_count": 14,
     "metadata": {},
     "output_type": "execute_result"
    }
   ],
   "source": [
    "array2.reshape(3,2)"
   ]
  },
  {
   "cell_type": "code",
   "execution_count": 20,
   "id": "c70eaa81",
   "metadata": {},
   "outputs": [
    {
     "name": "stdout",
     "output_type": "stream",
     "text": [
      "6\n",
      "[6 5 4]\n"
     ]
    }
   ],
   "source": [
    "# 행렬 데이터의 선택 : offset index : masking\n",
    "\n",
    "print(array2[1][2])\n",
    "print(array2[1][::-1])"
   ]
  },
  {
   "cell_type": "code",
   "execution_count": 23,
   "id": "c6f104ea",
   "metadata": {},
   "outputs": [
    {
     "name": "stdout",
     "output_type": "stream",
     "text": [
      "[[0 0 0]\n",
      " [4 5 6]]\n"
     ]
    }
   ],
   "source": [
    "# braodcasting\n",
    "\n",
    "array2[0] = 0\n",
    "print(array2)"
   ]
  },
  {
   "cell_type": "code",
   "execution_count": 25,
   "id": "eafd2567",
   "metadata": {},
   "outputs": [
    {
     "name": "stdout",
     "output_type": "stream",
     "text": [
      "[[7 8 9]\n",
      " [4 5 6]]\n"
     ]
    }
   ],
   "source": [
    "array2[0] = [7, 8, 9]\n",
    "print(array2)"
   ]
  },
  {
   "cell_type": "code",
   "execution_count": 27,
   "id": "c23500d5",
   "metadata": {},
   "outputs": [
    {
     "data": {
      "text/plain": [
       "array([[False,  True,  True],\n",
       "       [False, False, False]])"
      ]
     },
     "execution_count": 27,
     "metadata": {},
     "output_type": "execute_result"
    }
   ],
   "source": [
    "# 조건으로 선택\n",
    "\n",
    "array2 > 7"
   ]
  },
  {
   "cell_type": "code",
   "execution_count": 28,
   "id": "adf6400f",
   "metadata": {},
   "outputs": [
    {
     "data": {
      "text/plain": [
       "array([8, 9])"
      ]
     },
     "execution_count": 28,
     "metadata": {},
     "output_type": "execute_result"
    }
   ],
   "source": [
    "idx = array2 > 7\n",
    "array2[idx]"
   ]
  },
  {
   "cell_type": "code",
   "execution_count": 30,
   "id": "58905a7d",
   "metadata": {},
   "outputs": [
    {
     "name": "stdout",
     "output_type": "stream",
     "text": [
      "[[  7 100 100]\n",
      " [  4   5   6]]\n"
     ]
    }
   ],
   "source": [
    "array2[idx] = 100\n",
    "print(array2)"
   ]
  },
  {
   "cell_type": "code",
   "execution_count": 33,
   "id": "64e20d3f",
   "metadata": {},
   "outputs": [
    {
     "data": {
      "text/plain": [
       "array([[0., 0., 0.],\n",
       "       [0., 0., 0.]])"
      ]
     },
     "execution_count": 33,
     "metadata": {},
     "output_type": "execute_result"
    }
   ],
   "source": [
    "# 행렬 데이터 생성 2\n",
    "\n",
    "array3 = np.zeros((2, 3))\n",
    "array3"
   ]
  },
  {
   "cell_type": "code",
   "execution_count": 34,
   "id": "b293cab5",
   "metadata": {},
   "outputs": [
    {
     "data": {
      "text/plain": [
       "dtype('float64')"
      ]
     },
     "execution_count": 34,
     "metadata": {},
     "output_type": "execute_result"
    }
   ],
   "source": [
    "array3.dtype"
   ]
  },
  {
   "cell_type": "code",
   "execution_count": 37,
   "id": "097460f4",
   "metadata": {},
   "outputs": [
    {
     "data": {
      "text/plain": [
       "array([[0, 0, 0],\n",
       "       [0, 0, 0]])"
      ]
     },
     "execution_count": 37,
     "metadata": {},
     "output_type": "execute_result"
    }
   ],
   "source": [
    "array3.astype('int')\n"
   ]
  },
  {
   "cell_type": "code",
   "execution_count": 39,
   "id": "af0e88c7",
   "metadata": {},
   "outputs": [
    {
     "data": {
      "text/plain": [
       "array([[[1., 1.],\n",
       "        [1., 1.],\n",
       "        [1., 1.]],\n",
       "\n",
       "       [[1., 1.],\n",
       "        [1., 1.],\n",
       "        [1., 1.]]])"
      ]
     },
     "execution_count": 39,
     "metadata": {},
     "output_type": "execute_result"
    }
   ],
   "source": [
    "array4 = np.ones((2, 3, 2))\n",
    "array4"
   ]
  },
  {
   "cell_type": "code",
   "execution_count": 41,
   "id": "62e69360",
   "metadata": {},
   "outputs": [
    {
     "data": {
      "text/plain": [
       "array([0, 1, 2, 3, 4])"
      ]
     },
     "execution_count": 41,
     "metadata": {},
     "output_type": "execute_result"
    }
   ],
   "source": [
    "# arrange\n",
    "\n",
    "np.arange(5)"
   ]
  },
  {
   "cell_type": "code",
   "execution_count": 42,
   "id": "129d7709",
   "metadata": {},
   "outputs": [
    {
     "data": {
      "text/plain": [
       "array([5, 6, 7, 8, 9])"
      ]
     },
     "execution_count": 42,
     "metadata": {},
     "output_type": "execute_result"
    }
   ],
   "source": [
    "np.arange(5, 10)"
   ]
  },
  {
   "cell_type": "markdown",
   "id": "8303b986",
   "metadata": {},
   "source": [
    "# Index\n",
    "\n",
    "## 1. 분산\n",
    "## 2. 공분산\n",
    "## 3. 상관계수\n",
    "## 4. 결정계수\n",
    "## 5. 프리미어리그 데이터 상관계수 분석"
   ]
  },
  {
   "cell_type": "code",
   "execution_count": 43,
   "id": "728ffc9d",
   "metadata": {},
   "outputs": [],
   "source": [
    "import numpy as np"
   ]
  },
  {
   "cell_type": "code",
   "execution_count": 45,
   "id": "d0d850ae",
   "metadata": {},
   "outputs": [],
   "source": [
    "data1 = np.array([80, 85, 100, 90, 95])\n",
    "data2 = np.array([70, 80, 100, 95, 95])"
   ]
  },
  {
   "cell_type": "markdown",
   "id": "315ec68d",
   "metadata": {},
   "source": [
    "### 1. 분산\n",
    "\n",
    "- 1개의 이산정도를 나타냄\n",
    "- 평균과 얼마나 떨어져 있는가\n",
    "- 편차제곱의 평균\n",
    "\n",
    "$ variance = \\frac{\\sum_{i=1}^n{(x_i-\\bar{x})^2}}{n}, (\\bar{x}:평균) $"
   ]
  },
  {
   "cell_type": "code",
   "execution_count": 47,
   "id": "c98a2d80",
   "metadata": {},
   "outputs": [],
   "source": [
    "def variance(data):\n",
    "    avg = np.average(data)\n",
    "    var = 0\n",
    "    for num in data:\n",
    "        var += (num - avg) ** 2\n",
    "    return var / len(data)\n"
   ]
  },
  {
   "cell_type": "code",
   "execution_count": 48,
   "id": "cacef18c",
   "metadata": {},
   "outputs": [
    {
     "data": {
      "text/plain": [
       "(50.0, 126.0)"
      ]
     },
     "execution_count": 48,
     "metadata": {},
     "output_type": "execute_result"
    }
   ],
   "source": [
    "variance(data1), variance(data2)"
   ]
  },
  {
   "cell_type": "code",
   "execution_count": 50,
   "id": "7bcd1ec4",
   "metadata": {},
   "outputs": [
    {
     "data": {
      "text/plain": [
       "(50.0, 126.0)"
      ]
     },
     "execution_count": 50,
     "metadata": {},
     "output_type": "execute_result"
    }
   ],
   "source": [
    "np.var(data1), np.var(data2)"
   ]
  },
  {
   "cell_type": "code",
   "execution_count": 52,
   "id": "8b677f52",
   "metadata": {},
   "outputs": [],
   "source": [
    "p_data1 = np.random.randint(60, 100, int(1E5))\n",
    "p_data2 = np.random.randint(60, 100, int(1E5))"
   ]
  },
  {
   "cell_type": "code",
   "execution_count": 56,
   "id": "559b8bce",
   "metadata": {},
   "outputs": [
    {
     "name": "stdout",
     "output_type": "stream",
     "text": [
      "CPU times: user 1.49 ms, sys: 968 µs, total: 2.46 ms\n",
      "Wall time: 1.31 ms\n"
     ]
    },
    {
     "data": {
      "text/plain": [
       "(133.31434507189996, 133.43472315999998)"
      ]
     },
     "execution_count": 56,
     "metadata": {},
     "output_type": "execute_result"
    }
   ],
   "source": [
    "%%time\n",
    "np.var(p_data1), np.var(p_data2)"
   ]
  },
  {
   "cell_type": "markdown",
   "id": "0a50c5ea",
   "metadata": {},
   "source": [
    "### 2. 공분산\n",
    "\n",
    "- 2개의 확률변수의 상관정도를 나타냄\n",
    "- $ \\bar{x} $ > 0 이면, 2 데이터 방향성이 같음, $ \\bar{x} $ < 0 이면 2 데이터 방향이 반대\n",
    "- 평균 편차곱\n",
    "- 방향성은 보여줄 수 있으나 강도를 나타내는데 한계까 있다.\n",
    "\n",
    "$ covariance = \\frac{\\sum_{i=1}^{n}{(x_i-\\bar{x})(y_i-\\bar{y})}}{n}, (\\bar{x}:x의 평균, \\bar{y}:y의 평균) $"
   ]
  },
  {
   "cell_type": "code",
   "execution_count": 59,
   "id": "850cc895",
   "metadata": {},
   "outputs": [
    {
     "data": {
      "text/plain": [
       "93.75"
      ]
     },
     "execution_count": 59,
     "metadata": {},
     "output_type": "execute_result"
    }
   ],
   "source": [
    "data1 = np.array([80, 85, 100, 90, 95])\n",
    "data2 = np.array([70, 80, 100, 95, 95])\n",
    "np.cov(data1, data2)[0][1]"
   ]
  },
  {
   "cell_type": "code",
   "execution_count": 60,
   "id": "bf090b13",
   "metadata": {},
   "outputs": [
    {
     "data": {
      "text/plain": [
       "-87.5"
      ]
     },
     "execution_count": 60,
     "metadata": {},
     "output_type": "execute_result"
    }
   ],
   "source": [
    "data3 = np.array([80, 85, 100, 90, 95])\n",
    "data4 = np.array([100, 90, 70, 90, 80])\n",
    "np.cov(data3, data4)[0][1]"
   ]
  },
  {
   "cell_type": "code",
   "execution_count": null,
   "id": "327c5138",
   "metadata": {},
   "outputs": [],
   "source": []
  }
 ],
 "metadata": {
  "kernelspec": {
   "display_name": "Python 3 (ipykernel)",
   "language": "python",
   "name": "python3"
  },
  "language_info": {
   "codemirror_mode": {
    "name": "ipython",
    "version": 3
   },
   "file_extension": ".py",
   "mimetype": "text/x-python",
   "name": "python",
   "nbconvert_exporter": "python",
   "pygments_lexer": "ipython3",
   "version": "3.9.7"
  }
 },
 "nbformat": 4,
 "nbformat_minor": 5
}
