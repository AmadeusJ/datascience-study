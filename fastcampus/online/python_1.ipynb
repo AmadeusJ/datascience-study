{
 "cells": [
  {
   "cell_type": "markdown",
   "metadata": {},
   "source": [
    "### Magic Command\n",
    "- 셀 내부에서 특별하게 동작하는 커맨드\n",
    "- % : 한줄 단위의 커맨드 실행\n",
    "- %% : 셀 단위의 커맨드 실행\n"
   ]
  },
  {
   "cell_type": "code",
   "execution_count": 1,
   "metadata": {},
   "outputs": [
    {
     "data": {
      "text/plain": [
       "'/Users/amadeusj/workspace/repo/datascience-study/fastcampus/online'"
      ]
     },
     "execution_count": 1,
     "metadata": {},
     "output_type": "execute_result"
    }
   ],
   "source": [
    "%pwd"
   ]
  },
  {
   "cell_type": "code",
   "execution_count": 2,
   "metadata": {},
   "outputs": [
    {
     "name": "stdout",
     "output_type": "stream",
     "text": [
      "Interactive namespace is empty.\n"
     ]
    }
   ],
   "source": [
    "%whos"
   ]
  },
  {
   "cell_type": "code",
   "execution_count": 3,
   "metadata": {},
   "outputs": [
    {
     "name": "stdout",
     "output_type": "stream",
     "text": [
      "Once deleted, variables cannot be recovered. Proceed (y/[n])? \n",
      "Nothing done.\n"
     ]
    }
   ],
   "source": [
    "%reset"
   ]
  },
  {
   "cell_type": "code",
   "execution_count": 4,
   "metadata": {},
   "outputs": [
    {
     "name": "stdout",
     "output_type": "stream",
     "text": [
      "total 16\r\n",
      "drwxr-xr-x  4 amadeusj  staff   128 Sep 19 22:44 \u001B[1m\u001B[36m.\u001B[m\u001B[m\r\n",
      "drwxr-xr-x  5 amadeusj  staff   160 Sep 19 09:35 \u001B[1m\u001B[36m..\u001B[m\u001B[m\r\n",
      "drwxr-xr-x  9 amadeusj  staff   288 Sep 19 22:44 \u001B[1m\u001B[36m.idea\u001B[m\u001B[m\r\n",
      "-rw-r--r--  1 amadeusj  staff  6156 Sep 19 22:44 python_1.ipynb\r\n"
     ]
    }
   ],
   "source": [
    "!ls -al"
   ]
  },
  {
   "cell_type": "markdown",
   "metadata": {},
   "source": [
    "## Callback functions : 함수를 아규먼트 파라미터로 설정해서 사용\n"
   ]
  },
  {
   "cell_type": "code",
   "execution_count": 12,
   "metadata": {},
   "outputs": [],
   "source": [
    "def calc(func, a, b):\n",
    "    return func(a, b)\n",
    "\n",
    "def plus(a, b):\n",
    "    return a + b\n",
    "\n",
    "def minus(a, b):\n",
    "    return a - b"
   ]
  },
  {
   "cell_type": "code",
   "execution_count": 15,
   "metadata": {},
   "outputs": [
    {
     "data": {
      "text/plain": [
       "3"
      ]
     },
     "execution_count": 15,
     "metadata": {},
     "output_type": "execute_result"
    }
   ],
   "source": [
    "calc(plus, 1, 2)"
   ]
  },
  {
   "cell_type": "markdown",
   "metadata": {},
   "source": [
    "## Lambda Function"
   ]
  },
  {
   "cell_type": "code",
   "execution_count": 16,
   "metadata": {},
   "outputs": [],
   "source": [
    "plus2 = lambda a, b: a + b"
   ]
  },
  {
   "cell_type": "code",
   "execution_count": 18,
   "metadata": {},
   "outputs": [
    {
     "data": {
      "text/plain": [
       "5"
      ]
     },
     "execution_count": 18,
     "metadata": {},
     "output_type": "execute_result"
    }
   ],
   "source": [
    "plus2(2, 3)"
   ]
  },
  {
   "cell_type": "markdown",
   "metadata": {},
   "source": [
    "### Map / Filter / Reduce\n",
    "- map: 순서가 있는 데이터 집합에서 모든 값에 함수를 적용시킨 결과를 출력\n",
    "- filter: 리스트 데이터에서 특정 조건에 맞는 value만 남기는 함수\n",
    "- reduce: 리스트 데이터를 처음부터 순서대로 특정 함수를 실행하여 결과를 누적시켜 주는 함수"
   ]
  },
  {
   "cell_type": "code",
   "execution_count": 19,
   "metadata": {
    "pycharm": {
     "name": "#%%\n"
    }
   },
   "outputs": [
    {
     "data": {
      "text/plain": [
       "('odd', 'even')"
      ]
     },
     "execution_count": 19,
     "metadata": {},
     "output_type": "execute_result"
    }
   ],
   "source": [
    "ls = [1, 2, 3, 4]\n",
    "\n",
    "def odd_even(num):\n",
    "    return \"odd\" if num % 2 else \"even\"\n",
    "\n",
    "odd_even(3), odd_even(4)\n"
   ]
  },
  {
   "cell_type": "code",
   "execution_count": 20,
   "metadata": {
    "pycharm": {
     "name": "#%%\n"
    }
   },
   "outputs": [
    {
     "data": {
      "text/plain": [
       "['odd', 'even', 'odd', 'even']"
      ]
     },
     "execution_count": 20,
     "metadata": {},
     "output_type": "execute_result"
    }
   ],
   "source": [
    "list(map(odd_even, ls))\n"
   ]
  },
  {
   "cell_type": "code",
   "execution_count": 21,
   "metadata": {
    "pycharm": {
     "name": "#%%\n"
    }
   },
   "outputs": [
    {
     "data": {
      "text/plain": [
       "[1, 3, 5, 7, 9]"
      ]
     },
     "execution_count": 21,
     "metadata": {},
     "output_type": "execute_result"
    }
   ],
   "source": [
    "ls = range(10)\n",
    "\n",
    "list(filter(lambda data: True if data % 2 else False, ls))"
   ]
  },
  {
   "cell_type": "code",
   "execution_count": 22,
   "metadata": {
    "pycharm": {
     "name": "#%%\n"
    }
   },
   "outputs": [
    {
     "data": {
      "text/plain": [
       "15"
      ]
     },
     "execution_count": 22,
     "metadata": {},
     "output_type": "execute_result"
    }
   ],
   "source": [
    "from functools import reduce\n",
    "\n",
    "ls = [3, 1, 2, 4, 5]\n",
    "reduce(lambda x, y: x + y, ls)"
   ]
  },
  {
   "cell_type": "markdown",
   "metadata": {
    "pycharm": {
     "name": "#%% md\n"
    }
   },
   "source": [
    "## Decorator\n",
    "\n",
    "- 함수에서 코드를 바꾸지 않고 기능을 추가하거나 수정하고 싶을 때 사용하는 문법"
   ]
  },
  {
   "cell_type": "code",
   "execution_count": 25,
   "metadata": {
    "pycharm": {
     "name": "#%%\n"
    }
   },
   "outputs": [],
   "source": [
    "def disp(func):\n",
    "    def wrapper(*args, **kwargs):\n",
    "        print(\"start\")                          # code 1\n",
    "        result = func(*args, **kwargs)          # code 2\n",
    "        print(\"result : {}\".format(result))     # code 3\n",
    "        return result\n",
    "    return wrapper"
   ]
  },
  {
   "cell_type": "code",
   "execution_count": 26,
   "metadata": {
    "pycharm": {
     "name": "#%%\n"
    }
   },
   "outputs": [
    {
     "name": "stdout",
     "output_type": "stream",
     "text": [
      "start\n",
      "result : 5\n"
     ]
    },
    {
     "data": {
      "text/plain": [
       "5"
      ]
     },
     "execution_count": 26,
     "metadata": {},
     "output_type": "execute_result"
    }
   ],
   "source": [
    "@disp\n",
    "def plus(a, b):\n",
    "    result = a + b\n",
    "    return result\n",
    "plus(2, 3)"
   ]
  },
  {
   "cell_type": "code",
   "execution_count": 31,
   "metadata": {
    "pycharm": {
     "name": "#%%\n"
    }
   },
   "outputs": [],
   "source": [
    "# 함수의 실행시간을 출력하는 데코레이터 함수를 작성하세요.\n",
    "import time\n",
    "\n",
    "def timer(func):\n",
    "    def wrapper(*args, **kwargs):\n",
    "        start_time = time.time()\n",
    "        result = func(*args, **kwargs)\n",
    "        end_time = time.time()\n",
    "        print(\"running time: {}\".format(end_time - start_time))\n",
    "        \n",
    "    return wrapper"
   ]
  },
  {
   "cell_type": "code",
   "execution_count": 34,
   "metadata": {},
   "outputs": [],
   "source": [
    "@timer\n",
    "def test1(num1, num2):\n",
    "    data = range(num1, num2 + 1)\n",
    "    return sum(data)\n"
   ]
  },
  {
   "cell_type": "code",
   "execution_count": 35,
   "metadata": {},
   "outputs": [],
   "source": [
    "@timer\n",
    "def test2(num1, num2):\n",
    "    result = 0\n",
    "    for num in range(num1, num2):\n",
    "        result += num\n",
    "    return result\n"
   ]
  },
  {
   "cell_type": "code",
   "execution_count": 37,
   "metadata": {},
   "outputs": [
    {
     "name": "stdout",
     "output_type": "stream",
     "text": [
      "running time: 0.00020503997802734375\n",
      "running time: 0.006434917449951172\n"
     ]
    }
   ],
   "source": [
    "test1(1, 10000)\n",
    "test2(1, 100000)"
   ]
  },
  {
   "cell_type": "markdown",
   "metadata": {},
   "source": [
    "## Super\n",
    "\n",
    "- 부모 클래스에서 사용된 함수의 코드를 가져다가 자식 클래스의 함수에서 재사용할때 사용"
   ]
  },
  {
   "cell_type": "markdown",
   "metadata": {},
   "source": [
    "## Getter & Setter\n",
    "\n",
    "- 객체의 내부 변수에 접근할 때, 특정 로직을 거쳐서 접근시키는 방법"
   ]
  },
  {
   "cell_type": "code",
   "execution_count": 69,
   "metadata": {},
   "outputs": [],
   "source": [
    "class User:\n",
    "    def __init__(self, first_name, last_name):\n",
    "        self.first_name = first_name\n",
    "        self.last_name = last_name\n",
    "    \n",
    "    def disp(self):\n",
    "        print(self.first_name, self.last_name)\n",
    "    \n",
    "    def setter(self, first_name):\n",
    "        if type(first_name) == 'str':\n",
    "            self.first_name = first_name\n",
    "            print(\"setter\")\n",
    "            \n",
    "        else:\n",
    "            print(\"error\")\n",
    "    \n",
    "    def getter(self):\n",
    "        print(\"setter\")\n",
    "        return self.first_name\n",
    "    \n",
    "    name = property(getter, setter)"
   ]
  },
  {
   "cell_type": "code",
   "execution_count": 70,
   "metadata": {},
   "outputs": [],
   "source": [
    "user1 = User(\"andy\", \"kis\")"
   ]
  },
  {
   "cell_type": "code",
   "execution_count": 71,
   "metadata": {},
   "outputs": [
    {
     "name": "stdout",
     "output_type": "stream",
     "text": [
      "setter\n"
     ]
    },
    {
     "data": {
      "text/plain": [
       "'andy'"
      ]
     },
     "execution_count": 71,
     "metadata": {},
     "output_type": "execute_result"
    }
   ],
   "source": [
    "user1.first_name\n",
    "user1.name"
   ]
  },
  {
   "cell_type": "code",
   "execution_count": 72,
   "metadata": {},
   "outputs": [
    {
     "name": "stdout",
     "output_type": "stream",
     "text": [
      "error\n"
     ]
    }
   ],
   "source": [
    "user1.name = 1"
   ]
  },
  {
   "cell_type": "code",
   "execution_count": 73,
   "metadata": {},
   "outputs": [
    {
     "data": {
      "text/plain": [
       "'andy'"
      ]
     },
     "execution_count": 73,
     "metadata": {},
     "output_type": "execute_result"
    }
   ],
   "source": [
    "user1.first_name"
   ]
  },
  {
   "cell_type": "raw",
   "metadata": {},
   "source": [
    "user1.fist_name = 8"
   ]
  },
  {
   "cell_type": "markdown",
   "metadata": {},
   "source": [
    "## Mangling\n",
    "\n",
    "- 다이렉트로 객체의 변수에 접근하지 못하게 하는 방법"
   ]
  },
  {
   "cell_type": "code",
   "execution_count": 88,
   "metadata": {},
   "outputs": [],
   "source": [
    "class Calculator:\n",
    "    def __init__(self, num1, num2):\n",
    "        self.num1 = num1\n",
    "        self.__num2 = num2\n",
    "        \n",
    "    def getter(self):\n",
    "        return self.__num2\n",
    "    \n",
    "    def setter(self, num2):\n",
    "        num2 = 1 if num2 == 0 else num2\n",
    "        self.__num2 = num2\n",
    "    \n",
    "    def div(self):\n",
    "        return self.num1 / self.__num2\n",
    "    \n",
    "    number2 = property(getter, setter)"
   ]
  },
  {
   "cell_type": "code",
   "execution_count": 89,
   "metadata": {},
   "outputs": [],
   "source": [
    "calc = Calculator(1, 2)"
   ]
  },
  {
   "cell_type": "code",
   "execution_count": 90,
   "metadata": {},
   "outputs": [
    {
     "data": {
      "text/plain": [
       "0.5"
      ]
     },
     "execution_count": 90,
     "metadata": {},
     "output_type": "execute_result"
    }
   ],
   "source": [
    "calc.div()"
   ]
  },
  {
   "cell_type": "code",
   "execution_count": 91,
   "metadata": {},
   "outputs": [
    {
     "data": {
      "text/plain": [
       "2"
      ]
     },
     "execution_count": 91,
     "metadata": {},
     "output_type": "execute_result"
    }
   ],
   "source": [
    "calc.number2"
   ]
  },
  {
   "cell_type": "code",
   "execution_count": 93,
   "metadata": {},
   "outputs": [
    {
     "ename": "AttributeError",
     "evalue": "'Calculator' object has no attribute '__num2'",
     "output_type": "error",
     "traceback": [
      "\u001B[0;31m---------------------------------------------------------------------------\u001B[0m",
      "\u001B[0;31mAttributeError\u001B[0m                            Traceback (most recent call last)",
      "\u001B[0;32m/var/folders/jb/7bfy4yvs1pn6kd6vl8yccw3w0000gn/T/ipykernel_84834/2087357750.py\u001B[0m in \u001B[0;36m<module>\u001B[0;34m\u001B[0m\n\u001B[0;32m----> 1\u001B[0;31m \u001B[0mcalc\u001B[0m\u001B[0;34m.\u001B[0m\u001B[0m__num2\u001B[0m\u001B[0;34m\u001B[0m\u001B[0;34m\u001B[0m\u001B[0m\n\u001B[0m",
      "\u001B[0;31mAttributeError\u001B[0m: 'Calculator' object has no attribute '__num2'"
     ]
    }
   ],
   "source": [
    "calc.__num2"
   ]
  },
  {
   "cell_type": "markdown",
   "metadata": {},
   "source": [
    "## Magic(special) Method\n",
    "\n",
    "- compare\n",
    "    - __eq__ : ==\n",
    "    - __ne__ : !-\n",
    "    - __lt__ : <\n",
    "    \n",
    "- calculate\n",
    "    - __add__ : +\n",
    "    - __sub__ : -\n",
    "\n",
    "- __repr__ : 객체의 내용을 출력(개발자용)\n",
    "- __str__ : 객체의 내용을 출력"
   ]
  },
  {
   "cell_type": "code",
   "execution_count": 6,
   "metadata": {},
   "outputs": [],
   "source": [
    "class Txt:\n",
    "    def __init__(self, txt):\n",
    "        self.txt = txt\n",
    "    \n",
    "    def __eq__(self, txt_obj):\n",
    "        return self.txt.lower() == txt_obj.txt.lower()\n",
    "    \n",
    "    def __repr__(self):\n",
    "        return \"Txt(txt={})\".format(self.txt)\n",
    "    \n",
    "    def __str__(self):\n",
    "        return self.txt"
   ]
  },
  {
   "cell_type": "code",
   "execution_count": 7,
   "metadata": {},
   "outputs": [],
   "source": [
    "t1 = Txt(\"python\")\n",
    "t2 = Txt(\"python\")\n",
    "t3 = t1"
   ]
  },
  {
   "cell_type": "code",
   "execution_count": 8,
   "metadata": {},
   "outputs": [
    {
     "data": {
      "text/plain": [
       "(True, True, True)"
      ]
     },
     "execution_count": 8,
     "metadata": {},
     "output_type": "execute_result"
    }
   ],
   "source": [
    "t1 == t2, t1 == t3, t2 == t3"
   ]
  },
  {
   "cell_type": "code",
   "execution_count": 9,
   "metadata": {},
   "outputs": [
    {
     "data": {
      "text/plain": [
       "<bound method Txt.__repr__ of Txt(txt=python)>"
      ]
     },
     "execution_count": 9,
     "metadata": {},
     "output_type": "execute_result"
    }
   ],
   "source": [
    "t1.__repr__"
   ]
  },
  {
   "cell_type": "markdown",
   "metadata": {},
   "source": [
    "## Module Package\n",
    "\n",
    "- 모듈 : 변수, 함수, 클래스를 모아놓은 .py 확장자를 가진 파일\n",
    "- 패키지 : 모듈의 기능을 디렉토리별로 정리해 놓은 개념\n"
   ]
  },
  {
   "cell_type": "code",
   "execution_count": 10,
   "metadata": {},
   "outputs": [
    {
     "name": "stdout",
     "output_type": "stream",
     "text": [
      "Writing dss.py\n"
     ]
    }
   ],
   "source": [
    "%%writefile dss.py\n",
    "\n",
    "num = 1234\n",
    "\n",
    "def disp1(msg):\n",
    "    print(\"disp1\", msg)\n",
    "\n",
    "def disp2(msg):\n",
    "    print(\"disp2\", msg)\n",
    "\n",
    "class Calc:\n",
    "    def plus(self, *args):\n",
    "        return sum(args)"
   ]
  },
  {
   "cell_type": "code",
   "execution_count": 11,
   "metadata": {},
   "outputs": [
    {
     "name": "stdout",
     "output_type": "stream",
     "text": [
      "dss.py         python_1.ipynb\r\n"
     ]
    }
   ],
   "source": [
    "!ls"
   ]
  },
  {
   "cell_type": "code",
   "execution_count": 12,
   "metadata": {},
   "outputs": [
    {
     "name": "stdout",
     "output_type": "stream",
     "text": [
      "Once deleted, variables cannot be recovered. Proceed (y/[n])? y\n"
     ]
    }
   ],
   "source": [
    "%reset"
   ]
  },
  {
   "cell_type": "code",
   "execution_count": 13,
   "metadata": {},
   "outputs": [
    {
     "name": "stdout",
     "output_type": "stream",
     "text": [
      "Interactive namespace is empty.\n"
     ]
    }
   ],
   "source": [
    "%whos"
   ]
  },
  {
   "cell_type": "code",
   "execution_count": 14,
   "metadata": {},
   "outputs": [],
   "source": [
    "# module call\n",
    "import dss"
   ]
  },
  {
   "cell_type": "code",
   "execution_count": 15,
   "metadata": {},
   "outputs": [
    {
     "data": {
      "text/plain": [
       "1234"
      ]
     },
     "execution_count": 15,
     "metadata": {},
     "output_type": "execute_result"
    }
   ],
   "source": [
    "dss.num"
   ]
  },
  {
   "cell_type": "markdown",
   "metadata": {},
   "source": [
    "## Package"
   ]
  },
  {
   "cell_type": "code",
   "execution_count": 18,
   "metadata": {},
   "outputs": [],
   "source": [
    "!mkdir -p scholl/dss\n",
    "!mkdir -p scholl/web"
   ]
  },
  {
   "cell_type": "code",
   "execution_count": 19,
   "metadata": {},
   "outputs": [
    {
     "name": "stdout",
     "output_type": "stream",
     "text": [
      "\u001B[01;34mscholl\u001B[00m\r\n",
      "├── \u001B[01;34mdss\u001B[00m\r\n",
      "└── \u001B[01;34mweb\u001B[00m\r\n",
      "\r\n",
      "2 directories, 0 files\r\n"
     ]
    }
   ],
   "source": [
    "!tree scholl"
   ]
  },
  {
   "cell_type": "code",
   "execution_count": 21,
   "metadata": {},
   "outputs": [],
   "source": [
    "!touch scholl/dss/__init__.py\n",
    "!touch scholl/web/__init__.py"
   ]
  },
  {
   "cell_type": "code",
   "execution_count": 22,
   "metadata": {},
   "outputs": [
    {
     "name": "stdout",
     "output_type": "stream",
     "text": [
      "Writing scholl/web/url.py\n"
     ]
    }
   ],
   "source": [
    "%%writefile scholl/web/url.py \n",
    "\n",
    "def maker(url):\n",
    "    return url if url[:7] == \"http://\" else \"http://\" + url"
   ]
  },
  {
   "cell_type": "code",
   "execution_count": 23,
   "metadata": {},
   "outputs": [
    {
     "name": "stdout",
     "output_type": "stream",
     "text": [
      "Once deleted, variables cannot be recovered. Proceed (y/[n])? y\n"
     ]
    }
   ],
   "source": [
    "%reset"
   ]
  },
  {
   "cell_type": "code",
   "execution_count": 25,
   "metadata": {},
   "outputs": [],
   "source": [
    "import scholl.web.url"
   ]
  },
  {
   "cell_type": "code",
   "execution_count": 26,
   "metadata": {},
   "outputs": [
    {
     "name": "stdout",
     "output_type": "stream",
     "text": [
      "Variable   Type      Data/Info\n",
      "------------------------------\n",
      "scholl     module    <module 'scholl' from '/U<...>line/scholl/__init__.py'>\n"
     ]
    }
   ],
   "source": [
    "whos"
   ]
  },
  {
   "cell_type": "code",
   "execution_count": 27,
   "metadata": {},
   "outputs": [
    {
     "name": "stdout",
     "output_type": "stream",
     "text": [
      "/Users/amadeusj/workspace/repo/datascience-study/fastcampus/online\n",
      "/Users/amadeusj/workspace/repo/datascience-study/fastcampus/online\n",
      "/Users/amadeusj/opt/anaconda3/envs/online/lib/python39.zip\n",
      "/Users/amadeusj/opt/anaconda3/envs/online/lib/python3.9\n",
      "/Users/amadeusj/opt/anaconda3/envs/online/lib/python3.9/lib-dynload\n",
      "\n",
      "/Users/amadeusj/opt/anaconda3/envs/online/lib/python3.9/site-packages\n",
      "/Users/amadeusj/opt/anaconda3/envs/online/lib/python3.9/site-packages/IPython/extensions\n",
      "/Users/amadeusj/.ipython\n"
     ]
    }
   ],
   "source": [
    "import sys\n",
    "\n",
    "for path in sys.path:\n",
    "    print(path)"
   ]
  },
  {
   "cell_type": "code",
   "execution_count": null,
   "metadata": {},
   "outputs": [],
   "source": [
    "packages = !ls"
   ]
  }
 ],
 "metadata": {
  "kernelspec": {
   "display_name": "Python 3 (ipykernel)",
   "language": "python",
   "name": "python3"
  },
  "language_info": {
   "codemirror_mode": {
    "name": "ipython",
    "version": 3
   },
   "file_extension": ".py",
   "mimetype": "text/x-python",
   "name": "python",
   "nbconvert_exporter": "python",
   "pygments_lexer": "ipython3",
   "version": "3.9.7"
  }
 },
 "nbformat": 4,
 "nbformat_minor": 4
}