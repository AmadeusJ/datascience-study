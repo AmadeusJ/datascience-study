{
 "cells": [
  {
   "cell_type": "code",
   "execution_count": 1,
   "metadata": {
    "collapsed": true,
    "pycharm": {
     "is_executing": false
    }
   },
   "outputs": [
    {
     "name": "stdout",
     "text": [
      "WARNING:tensorflow:From C:\\ProgramData\\Anaconda3\\lib\\site-packages\\tensorflow_core\\python\\compat\\v2_compat.py:65: disable_resource_variables (from tensorflow.python.ops.variable_scope) is deprecated and will be removed in a future version.\nInstructions for updating:\nnon-resource variables are not supported in the long term\n"
     ],
     "output_type": "stream"
    },
    {
     "data": {
      "text/plain": "'2.0.0'"
     },
     "metadata": {},
     "output_type": "execute_result",
     "execution_count": 1
    }
   ],
   "source": [
    "import numpy as np\n",
    "import tensorflow.compat.v1 as tf\n",
    "tf.disable_v2_behavior()\n",
    "tf.__version__\n"
   ]
  },
  {
   "cell_type": "markdown",
   "source": [
    "Solving XOR with NN(Neural Net)\n"
   ],
   "metadata": {
    "collapsed": false,
    "pycharm": {
     "name": "#%% md\n"
    }
   }
  },
  {
   "cell_type": "code",
   "execution_count": 2,
   "outputs": [
    {
     "name": "stdout",
     "text": [
      "0 0.68971574 [array([[-0.76462996,  0.981266  ],\n       [ 0.2022248 , -0.90611637]], dtype=float32), array([[-0.04460759],\n       [ 0.8734938 ]], dtype=float32)]\n",
      "2000 0.53783464 [array([[-1.22175   ,  3.3549488 ],\n       [ 0.40460238, -3.7728508 ]], dtype=float32), array([[0.83194506],\n       [3.4692888 ]], dtype=float32)]\n",
      "4000 0.08418972 [array([[-4.459262,  5.428094],\n       [ 4.026665, -5.474252]], dtype=float32), array([[6.292122 ],\n       [6.5880213]], dtype=float32)]\n",
      "6000 0.032555804 [array([[-5.3574243,  5.981045 ],\n       [ 4.985922 , -6.0397177]], dtype=float32), array([[8.204627],\n       [8.181227]], dtype=float32)]\n",
      "8000 0.0197198 [array([[-5.7599006,  6.2501736],\n       [ 5.406242 , -6.3337   ]], dtype=float32), array([[9.166122],\n       [9.085205]], dtype=float32)]\n",
      "10000 0.014048517 [array([[-6.0106573,  6.425284 ],\n       [ 5.6665707, -6.5271535]], dtype=float32), array([[9.807869],\n       [9.709611]], dtype=float32)]\n\nHypothesis: \n [[0.01637688]\n [0.9869981 ]\n [0.9878019 ]\n [0.01421928]] \nCorrect: \n [[0.]\n [1.]\n [1.]\n [0.]] \nAccuracy: \n 1.0\n"
     ],
     "output_type": "stream"
    }
   ],
   "source": [
    "x_data = np.array([[0, 0], [0, 1], [1, 0], [1, 1]], dtype=np.float32)\n",
    "y_data = np.array([[0], [1], [1], [0]], dtype=np.float32)\n",
    "\n",
    "X = tf.placeholder(tf.float32)\n",
    "Y = tf.placeholder(tf.float32)\n",
    "\n",
    "W1 = tf.Variable(tf.random_normal([2, 2]), name='weight1')\n",
    "b1 = tf.Variable(tf.random_normal([2]), name='bias1')\n",
    "layer1 = tf.sigmoid(tf.matmul(X, W1) + b1)\n",
    "\n",
    "W2 = tf.Variable(tf.random_normal([2, 1]), name='weight2')\n",
    "b2 = tf.Variable(tf.random_normal([1]), name='bias2')\n",
    "hypothesis = tf.sigmoid(tf.matmul(layer1, W2) + b2)\n",
    "\n",
    "cost = -tf.reduce_mean(Y * tf.log(hypothesis) + (1 - Y) * tf.log(1 - hypothesis))\n",
    "train = tf.train.GradientDescentOptimizer(learning_rate=0.1).minimize(cost)\n",
    "\n",
    "predicted = tf.cast(hypothesis > 0.5, dtype=tf.float32)\n",
    "accuracy = tf.reduce_mean(tf.cast(tf.equal(predicted, Y), dtype=tf.float32))\n",
    "\n",
    "with tf.Session() as sess:\n",
    "    sess.run(tf.global_variables_initializer())\n",
    "    for step in range(10001):\n",
    "        sess.run(train, feed_dict={X: x_data, Y: y_data})\n",
    "        if step % 2000 == 0:\n",
    "            print(step, sess.run(cost, feed_dict={X: x_data, Y: y_data}), sess.run([W1, W2]))\n",
    "    h, c, a = sess.run([hypothesis, predicted, accuracy],\n",
    "                       feed_dict={X: x_data, Y: y_data})\n",
    "    print(\"\\nHypothesis: \\n\", h, \"\\nCorrect: \\n\", c, \"\\nAccuracy: \\n\", a)\n"
   ],
   "metadata": {
    "collapsed": false,
    "pycharm": {
     "name": "#%%\n",
     "is_executing": false
    }
   }
  }
 ],
 "metadata": {
  "language_info": {
   "codemirror_mode": {
    "name": "ipython",
    "version": 2
   },
   "file_extension": ".py",
   "mimetype": "text/x-python",
   "name": "python",
   "nbconvert_exporter": "python",
   "pygments_lexer": "ipython2",
   "version": "2.7.6"
  },
  "kernelspec": {
   "name": "python3",
   "language": "python",
   "display_name": "Python 3"
  },
  "pycharm": {
   "stem_cell": {
    "cell_type": "raw",
    "source": [],
    "metadata": {
     "collapsed": false
    }
   }
  }
 },
 "nbformat": 4,
 "nbformat_minor": 0
}