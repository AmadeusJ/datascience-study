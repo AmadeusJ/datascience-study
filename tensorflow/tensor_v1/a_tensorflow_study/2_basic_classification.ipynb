{
 "cells": [
  {
   "cell_type": "code",
   "execution_count": 4,
   "metadata": {
    "collapsed": true,
    "pycharm": {
     "is_executing": false
    }
   },
   "outputs": [
    {
     "name": "stdout",
     "text": [
      "0 1.010708\n200 0.43570927\n",
      "400 0.40179917\n600 0.380188\n",
      "800 0.3640714\n",
      "1000 0.35075793\n",
      "1200 0.33906662\n1400 0.32843304\n",
      "1600 0.31856722\n",
      "1800 0.30930948\n2000 0.30056494\n",
      "2200 0.29227245\n2400",
      " 0.28438923\n2600",
      " 0.27688274\n2800 0.26972649\n",
      "3000 0.26289785\n3200 0.25637686\n",
      "3400 0.25014532\n3600 0.24418634\n",
      "3800 0.23848452\n4000 0.23302539\n",
      "4200 0.22779542\n4400 0.22278179\n",
      "4600 0.21797274\n4800",
      " 0.21335708\n5000",
      " 0.20892443\n",
      "5200 0.20466495\n5400",
      " 0.20056947\n5600",
      " 0.19662942\n5800 0.19283663\n",
      "6000 0.18918361\n6200 0.1856633\n",
      "6400 0.18226886\n6600 0.17899406\n",
      "6800 0.17583305\n7000",
      " 0.17278033\n7200",
      " 0.16983066\n7400",
      " 0.16697909\n7600 0.164221\n",
      "7800 0.1615521\n8000",
      " 0.15896834\n",
      "8200 0.15646571\n",
      "8400 0.15404074\n8600 0.15168984\n",
      "8800 0.14940982\n",
      "9000 0.14719762\n",
      "9200 0.14505032\n9400",
      " 0.14296514\n9600",
      " 0.14093955\n",
      "9800 0.13897108\n10000 0.13705732\n\nHypothesis: \n [[0.0256871 ]\n [0.15137658]\n [0.27968845]\n [0.79313225]\n [0.94673747]\n [0.98259854]] \nCorrect (Y): \n [[0.]\n [0.]\n [0.]\n [1.]\n [1.]\n [1.]] \nAccuracy: \n 1.0\n"
     ],
     "output_type": "stream"
    }
   ],
   "source": [
    "import tensorflow.compat.v1 as tf\n",
    "tf.disable_v2_behavior()\n",
    "tf.__version__\n",
    "\n",
    "\n",
    "x_data = [[1, 2], [2, 3], [3, 1], [4, 3], [5, 3], [6, 2]]\n",
    "y_data = [[0], [0], [0], [1], [1], [1]]\n",
    "\n",
    "X = tf.placeholder(tf.float32, shape=[None, 2])\n",
    "Y = tf.placeholder(tf.float32, shape=[None, 1])\n",
    "\n",
    "W = tf.Variable(tf.random_normal([2, 1]), name='weight')\n",
    "b = tf.Variable(tf.random_normal([1]), name='bias')\n",
    "\n",
    "hypothesis = tf.sigmoid(tf.matmul(X, W) + b)\n",
    "\n",
    "cost = -tf.reduce_mean(Y * tf.log(hypothesis) + (1 - Y) * tf.log(1 - hypothesis))\n",
    "train = tf.train.GradientDescentOptimizer(learning_rate=0.01).minimize(cost)\n",
    "\n",
    "# Accuracy computation\n",
    "# True if hypothesis > 0.5 else False\n",
    "predicted = tf.cast(hypothesis > 0.5, dtype=tf.float32)\n",
    "accuracy = tf.reduce_mean(tf.cast(tf.equal(predicted, Y), dtype=tf.float32))\n",
    "\n",
    "# Launch graph\n",
    "with tf.Session() as sess:\n",
    "    # Initialize TensorFlow variables\n",
    "    sess.run(tf.global_variables_initializer())\n",
    "    \n",
    "    for step in range(10001):\n",
    "        cost_val, _ = sess.run([cost, train], feed_dict={X: x_data, Y: y_data})\n",
    "        if step % 200 == 0:\n",
    "            print(step, cost_val)\n",
    "    # Accuracy report\n",
    "    h, c, a = sess.run([hypothesis, predicted, accuracy],\n",
    "                       feed_dict={X: x_data, Y: y_data})\n",
    "    print(\"\\nHypothesis: \\n\", h, \"\\nCorrect (Y): \\n\", c, \"\\nAccuracy: \\n\", a)\n",
    "    \n"
   ]
  }
 ],
 "metadata": {
  "language_info": {
   "codemirror_mode": {
    "name": "ipython",
    "version": 2
   },
   "file_extension": ".py",
   "mimetype": "text/x-python",
   "name": "python",
   "nbconvert_exporter": "python",
   "pygments_lexer": "ipython2",
   "version": "2.7.6"
  },
  "kernelspec": {
   "name": "python3",
   "language": "python",
   "display_name": "Python 3"
  },
  "pycharm": {
   "stem_cell": {
    "cell_type": "raw",
    "source": [],
    "metadata": {
     "collapsed": false
    }
   }
  }
 },
 "nbformat": 4,
 "nbformat_minor": 0
}